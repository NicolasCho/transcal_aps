{
 "cells": [
  {
   "cell_type": "markdown",
   "metadata": {},
   "source": [
    "# APS 4"
   ]
  },
  {
   "cell_type": "markdown",
   "metadata": {},
   "source": [
    "Funções padrões"
   ]
  },
  {
   "cell_type": "code",
   "execution_count": 90,
   "metadata": {},
   "outputs": [],
   "source": [
    "from funcoesTermosol import plota, importa, geraSaida"
   ]
  },
  {
   "cell_type": "code",
   "execution_count": 91,
   "metadata": {},
   "outputs": [],
   "source": [
    "import math\n",
    "import numpy as np"
   ]
  },
  {
   "cell_type": "markdown",
   "metadata": {},
   "source": [
    "A funcao 'importa' retorna o numero de nos [nn], a matriz dos nos [N], o numero\n",
    "de membros [nm], a matriz de incidencia [Inc], o numero de cargas [nc], o vetor\n",
    "carregamento [F], o numero de restricoes [nr] e o vetor de restricoes [R] \n",
    "contidos no arquivo de entrada."
   ]
  },
  {
   "cell_type": "code",
   "execution_count": 92,
   "metadata": {},
   "outputs": [],
   "source": [
    "[nn,N,nm,Inc,nc,F,nr,R] = importa('entrada.xls')"
   ]
  },
  {
   "cell_type": "code",
   "execution_count": 93,
   "metadata": {},
   "outputs": [
    {
     "name": "stdout",
     "output_type": "stream",
     "text": [
      "[3, 3, 2, 3]\n"
     ]
    }
   ],
   "source": [
    "print([nn,nm,nc,nr])"
   ]
  },
  {
   "cell_type": "code",
   "execution_count": 94,
   "metadata": {},
   "outputs": [
    {
     "data": {
      "text/plain": [
       "array([[1.0e+00, 2.0e+00, 2.1e+11, 2.0e-04],\n",
       "       [2.0e+00, 3.0e+00, 2.1e+11, 2.0e-04],\n",
       "       [3.0e+00, 1.0e+00, 2.1e+11, 2.0e-04]])"
      ]
     },
     "execution_count": 94,
     "metadata": {},
     "output_type": "execute_result"
    }
   ],
   "source": [
    "Inc"
   ]
  },
  {
   "cell_type": "code",
   "execution_count": 95,
   "metadata": {},
   "outputs": [
    {
     "data": {
      "text/plain": [
       "array([[0.],\n",
       "       [2.],\n",
       "       [3.]])"
      ]
     },
     "execution_count": 95,
     "metadata": {},
     "output_type": "execute_result"
    }
   ],
   "source": [
    "R"
   ]
  },
  {
   "cell_type": "code",
   "execution_count": 96,
   "metadata": {},
   "outputs": [
    {
     "data": {
      "text/plain": [
       "array([[   0.],\n",
       "       [   0.],\n",
       "       [   0.],\n",
       "       [   0.],\n",
       "       [ 150.],\n",
       "       [-100.]])"
      ]
     },
     "execution_count": 96,
     "metadata": {},
     "output_type": "execute_result"
    }
   ],
   "source": [
    "F"
   ]
  },
  {
   "cell_type": "code",
   "execution_count": 97,
   "metadata": {},
   "outputs": [
    {
     "data": {
      "text/plain": [
       "array([[0. , 0. , 0.3],\n",
       "       [0. , 0.4, 0.4]])"
      ]
     },
     "execution_count": 97,
     "metadata": {},
     "output_type": "execute_result"
    }
   ],
   "source": [
    "N"
   ]
  },
  {
   "cell_type": "code",
   "execution_count": 98,
   "metadata": {},
   "outputs": [
    {
     "data": {
      "text/plain": [
       "(2, 3)"
      ]
     },
     "execution_count": 98,
     "metadata": {},
     "output_type": "execute_result"
    }
   ],
   "source": [
    "N.shape"
   ]
  },
  {
   "cell_type": "markdown",
   "metadata": {},
   "source": [
    "### Função para calcular distâncias, cossenos e senos"
   ]
  },
  {
   "cell_type": "code",
   "execution_count": 99,
   "metadata": {},
   "outputs": [],
   "source": [
    "def calc_dist_cs(N, Inc):\n",
    "    l_list = []\n",
    "    c_list = []\n",
    "    s_list = []\n",
    "    for i in range(N.shape[1]):\n",
    "        if i == N.shape[1]-1:\n",
    "            l = (math.sqrt((N[0][i] - N[0][0])**2 + (N[1][i] - N[1][0])**2))\n",
    "            c = (N[0][0]-N[0][i])/l\n",
    "            s = (N[1][0]-N[1][i])/l\n",
    "            l_list.append(l)\n",
    "            c_list.append(c)\n",
    "            s_list.append(s)\n",
    "        else:\n",
    "            l = (math.sqrt((N[0][i] - N[0][i+1])**2 + (N[1][i] - N[1][i+1])**2))\n",
    "            c = (N[0][i+1]-N[0][i])/l\n",
    "            s = (N[1][i+1]-N[1][i])/l\n",
    "            l_list.append(l)\n",
    "            c_list.append(c)\n",
    "            s_list.append(s)\n",
    "    l_array = np.c_[l_list]\n",
    "    c_array = np.c_[c_list]\n",
    "    s_array = np.c_[s_list]\n",
    "    Inc = np.hstack((Inc, l_array))\n",
    "    Inc = np.hstack((Inc, c_array))\n",
    "    Inc = np.hstack((Inc, s_array))\n",
    "    return Inc"
   ]
  },
  {
   "cell_type": "markdown",
   "metadata": {},
   "source": [
    "ex:"
   ]
  },
  {
   "cell_type": "code",
   "execution_count": 100,
   "metadata": {},
   "outputs": [
    {
     "data": {
      "text/plain": [
       "array([[ 1.0e+00,  2.0e+00,  2.1e+11,  2.0e-04,  4.0e-01,  0.0e+00,\n",
       "         1.0e+00],\n",
       "       [ 2.0e+00,  3.0e+00,  2.1e+11,  2.0e-04,  3.0e-01,  1.0e+00,\n",
       "         0.0e+00],\n",
       "       [ 3.0e+00,  1.0e+00,  2.1e+11,  2.0e-04,  5.0e-01, -6.0e-01,\n",
       "        -8.0e-01]])"
      ]
     },
     "execution_count": 100,
     "metadata": {},
     "output_type": "execute_result"
    }
   ],
   "source": [
    "Inc = calc_dist_cs(N,Inc)\n",
    "Inc"
   ]
  },
  {
   "cell_type": "markdown",
   "metadata": {},
   "source": [
    "### Função para achar matrizes de rigidez"
   ]
  },
  {
   "cell_type": "code",
   "execution_count": 107,
   "metadata": {},
   "outputs": [],
   "source": [
    "def matrizes_rigidez(Inc, nm):\n",
    "    matrizes = np.zeros(shape=(nm,4,4))   # Considerando a treliça com duas extremidades\n",
    "    i = 0\n",
    "    for cs in Inc:\n",
    "        rigidez = cs[2]*cs[3]/cs[4]  # E*A/L para todos os membros\n",
    "        #print(rigidez)\n",
    "        c = cs[5]\n",
    "        s = cs[6]\n",
    "        matriz_cs = [[c**2 ,     c*s,   -(c**2), -(c*s) ],\n",
    "                     [c*s ,      s**2,  -(c*s),  -(s**2)],\n",
    "                     [-(c**2),  -(c*s),  c**2,    c *s  ],\n",
    "                     [-(c*s),   -(s**2), c*s,     s**2  ]]\n",
    "        #print(matriz_cs)\n",
    "        matriz_cs = np.multiply(matriz_cs, rigidez)\n",
    "        matrizes[i,:,:] = np.add(matrizes[i,:,:], matriz_cs)\n",
    "\n",
    "        i+=1\n",
    "    return matrizes\n"
   ]
  },
  {
   "cell_type": "markdown",
   "metadata": {},
   "source": [
    "ex"
   ]
  },
  {
   "cell_type": "code",
   "execution_count": 109,
   "metadata": {},
   "outputs": [
    {
     "data": {
      "text/plain": [
       "array([[[ 0.000e+00,  0.000e+00,  0.000e+00,  0.000e+00],\n",
       "        [ 0.000e+00,  1.050e+08,  0.000e+00, -1.050e+08],\n",
       "        [ 0.000e+00,  0.000e+00,  0.000e+00,  0.000e+00],\n",
       "        [ 0.000e+00, -1.050e+08,  0.000e+00,  1.050e+08]],\n",
       "\n",
       "       [[ 1.400e+08,  0.000e+00, -1.400e+08,  0.000e+00],\n",
       "        [ 0.000e+00,  0.000e+00,  0.000e+00,  0.000e+00],\n",
       "        [-1.400e+08,  0.000e+00,  1.400e+08,  0.000e+00],\n",
       "        [ 0.000e+00,  0.000e+00,  0.000e+00,  0.000e+00]],\n",
       "\n",
       "       [[ 3.024e+07,  4.032e+07, -3.024e+07, -4.032e+07],\n",
       "        [ 4.032e+07,  5.376e+07, -4.032e+07, -5.376e+07],\n",
       "        [-3.024e+07, -4.032e+07,  3.024e+07,  4.032e+07],\n",
       "        [-4.032e+07, -5.376e+07,  4.032e+07,  5.376e+07]]])"
      ]
     },
     "execution_count": 109,
     "metadata": {},
     "output_type": "execute_result"
    }
   ],
   "source": [
    "a= matrizes_rigidez(Inc,nm)\n",
    "a"
   ]
  },
  {
   "cell_type": "markdown",
   "metadata": {},
   "source": [
    "### Função para matriz de rigidez global"
   ]
  },
  {
   "cell_type": "code",
   "execution_count": null,
   "metadata": {},
   "outputs": [],
   "source": [
    "def rigidez_global(Inc, matrizes_rigidez, nm):\n",
    "    matriz_global = np.zeros(shape=(nn*2,nn*2))   # Considerando 2 graus de liberdade~\n",
    "    \n",
    "\n",
    "    \n"
   ]
  },
  {
   "cell_type": "markdown",
   "metadata": {},
   "source": [
    "A funcao 'geraSaida' cria um arquivo nome.txt contendo as reacoes de apoio Ft, \n",
    "deslocamentos Ut, deformacoes Epsi, forcas Fi e tensoes Ti internas. \n",
    "As entradas devem ser vetores coluna."
   ]
  }
 ],
 "metadata": {
  "interpreter": {
   "hash": "e9ce2dd4416f9f978792fd09602620adf87f44287733915ff5f924f311bc8339"
  },
  "kernelspec": {
   "display_name": "Python 3.7.11 ('base')",
   "language": "python",
   "name": "python3"
  },
  "language_info": {
   "codemirror_mode": {
    "name": "ipython",
    "version": 3
   },
   "file_extension": ".py",
   "mimetype": "text/x-python",
   "name": "python",
   "nbconvert_exporter": "python",
   "pygments_lexer": "ipython3",
   "version": "3.7.11"
  },
  "orig_nbformat": 4
 },
 "nbformat": 4,
 "nbformat_minor": 2
}
