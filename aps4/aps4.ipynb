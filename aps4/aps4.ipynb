{
 "cells": [
  {
   "cell_type": "markdown",
   "metadata": {},
   "source": [
    "# APS 4"
   ]
  },
  {
   "cell_type": "markdown",
   "metadata": {},
   "source": [
    "Funções padrões"
   ]
  },
  {
   "cell_type": "code",
   "execution_count": 81,
   "metadata": {},
   "outputs": [],
   "source": [
    "from funcoesTermosol import plota, importa, geraSaida"
   ]
  },
  {
   "cell_type": "code",
   "execution_count": 82,
   "metadata": {},
   "outputs": [],
   "source": [
    "import math\n",
    "import numpy as np"
   ]
  },
  {
   "cell_type": "markdown",
   "metadata": {},
   "source": [
    "A funcao 'importa' retorna o numero de nos [nn], a matriz dos nos [N], o numero\n",
    "de membros [nm], a matriz de incidencia [Inc], o numero de cargas [nc], o vetor\n",
    "carregamento [F], o numero de restricoes [nr] e o vetor de restricoes [R] \n",
    "contidos no arquivo de entrada."
   ]
  },
  {
   "cell_type": "code",
   "execution_count": 83,
   "metadata": {},
   "outputs": [],
   "source": [
    "[nn,N,nm,Inc,nc,F,nr,R] = importa('entrada.xls')"
   ]
  },
  {
   "cell_type": "code",
   "execution_count": 84,
   "metadata": {},
   "outputs": [
    {
     "name": "stdout",
     "output_type": "stream",
     "text": [
      "[3, 3, 2, 3]\n"
     ]
    }
   ],
   "source": [
    "print([nn,nm,nc,nr])"
   ]
  },
  {
   "cell_type": "code",
   "execution_count": 85,
   "metadata": {},
   "outputs": [
    {
     "data": {
      "text/plain": [
       "array([[1.0e+00, 2.0e+00, 2.1e+11, 2.0e-04],\n",
       "       [2.0e+00, 3.0e+00, 2.1e+11, 2.0e-04],\n",
       "       [3.0e+00, 1.0e+00, 2.1e+11, 2.0e-04]])"
      ]
     },
     "execution_count": 85,
     "metadata": {},
     "output_type": "execute_result"
    }
   ],
   "source": [
    "Inc"
   ]
  },
  {
   "cell_type": "code",
   "execution_count": 86,
   "metadata": {},
   "outputs": [
    {
     "data": {
      "text/plain": [
       "array([[0.],\n",
       "       [2.],\n",
       "       [3.]])"
      ]
     },
     "execution_count": 86,
     "metadata": {},
     "output_type": "execute_result"
    }
   ],
   "source": [
    "R"
   ]
  },
  {
   "cell_type": "code",
   "execution_count": 87,
   "metadata": {},
   "outputs": [
    {
     "data": {
      "text/plain": [
       "array([[   0.],\n",
       "       [   0.],\n",
       "       [   0.],\n",
       "       [   0.],\n",
       "       [ 150.],\n",
       "       [-100.]])"
      ]
     },
     "execution_count": 87,
     "metadata": {},
     "output_type": "execute_result"
    }
   ],
   "source": [
    "F"
   ]
  },
  {
   "cell_type": "code",
   "execution_count": 88,
   "metadata": {},
   "outputs": [
    {
     "data": {
      "text/plain": [
       "array([[0. , 0. , 0.3],\n",
       "       [0. , 0.4, 0.4]])"
      ]
     },
     "execution_count": 88,
     "metadata": {},
     "output_type": "execute_result"
    }
   ],
   "source": [
    "N"
   ]
  },
  {
   "cell_type": "code",
   "execution_count": 89,
   "metadata": {},
   "outputs": [
    {
     "data": {
      "text/plain": [
       "(2, 3)"
      ]
     },
     "execution_count": 89,
     "metadata": {},
     "output_type": "execute_result"
    }
   ],
   "source": [
    "N.shape"
   ]
  },
  {
   "cell_type": "markdown",
   "metadata": {},
   "source": [
    "### Função para calcular distâncias, cossenos e senos"
   ]
  },
  {
   "cell_type": "code",
   "execution_count": 90,
   "metadata": {},
   "outputs": [],
   "source": [
    "def calc_dist_cs(N, Inc):\n",
    "    l_list = []\n",
    "    c_list = []\n",
    "    s_list = []\n",
    "    for i in range(N.shape[1]):\n",
    "        if i == N.shape[1]-1:\n",
    "            l = (math.sqrt((N[0][i] - N[0][0])**2 + (N[1][i] - N[1][0])**2))\n",
    "            c = (N[0][0]-N[0][i])/l\n",
    "            s = (N[1][0]-N[1][i])/l\n",
    "            l_list.append(l)\n",
    "            c_list.append(c)\n",
    "            s_list.append(s)\n",
    "        else:\n",
    "            l = (math.sqrt((N[0][i] - N[0][i+1])**2 + (N[1][i] - N[1][i+1])**2))\n",
    "            c = (N[0][i+1]-N[0][i])/l\n",
    "            s = (N[1][i+1]-N[1][i])/l\n",
    "            l_list.append(l)\n",
    "            c_list.append(c)\n",
    "            s_list.append(s)\n",
    "    l_array = np.c_[l_list]\n",
    "    c_array = np.c_[c_list]\n",
    "    s_array = np.c_[s_list]\n",
    "    Inc = np.hstack((Inc, l_array))\n",
    "    Inc = np.hstack((Inc, c_array))\n",
    "    Inc = np.hstack((Inc, s_array))\n",
    "    return Inc"
   ]
  },
  {
   "cell_type": "markdown",
   "metadata": {},
   "source": [
    "ex:"
   ]
  },
  {
   "cell_type": "code",
   "execution_count": 91,
   "metadata": {},
   "outputs": [
    {
     "data": {
      "text/plain": [
       "array([[ 1.0e+00,  2.0e+00,  2.1e+11,  2.0e-04,  4.0e-01,  0.0e+00,\n",
       "         1.0e+00],\n",
       "       [ 2.0e+00,  3.0e+00,  2.1e+11,  2.0e-04,  3.0e-01,  1.0e+00,\n",
       "         0.0e+00],\n",
       "       [ 3.0e+00,  1.0e+00,  2.1e+11,  2.0e-04,  5.0e-01, -6.0e-01,\n",
       "        -8.0e-01]])"
      ]
     },
     "execution_count": 91,
     "metadata": {},
     "output_type": "execute_result"
    }
   ],
   "source": [
    "Inc = calc_dist_cs(N,Inc)\n",
    "Inc"
   ]
  },
  {
   "cell_type": "markdown",
   "metadata": {},
   "source": [
    "### Função para achar matrizes de rigidez"
   ]
  },
  {
   "cell_type": "code",
   "execution_count": 92,
   "metadata": {},
   "outputs": [],
   "source": [
    "def matrizes_rigidez(Inc, nm):\n",
    "    matrizes = np.zeros(shape=(nm,4,4))   # Considerando a treliça com duas extremidades\n",
    "    matrizes_coordenada = np.zeros(shape=(nm,4,4,2))   # Considerando as coordenadas alinhadas com os graus de liberdade\n",
    "    \n",
    "    i = 0\n",
    "    for cs in Inc:\n",
    "        rigidez = cs[2]*cs[3]/cs[4]  # E*A/L para todos os membros\n",
    "        \n",
    "        c = cs[5]\n",
    "        s = cs[6]\n",
    "        matriz_cs = [[c**2 ,     c*s,   -(c**2), -(c*s) ],\n",
    "                     [c*s ,      s**2,  -(c*s),  -(s**2)],\n",
    "                     [-(c**2),  -(c*s),  c**2,    c *s  ],\n",
    "                     [-(c*s),   -(s**2), c*s,     s**2  ]]\n",
    "       \n",
    "\n",
    "\n",
    "        matriz_coord = np.zeros(shape=(4,4,2))\n",
    "\n",
    "        grau_linha = 0\n",
    "        grau_coluna = 0\n",
    "        for m in range(4):\n",
    "            if   m == 0:\n",
    "                grau_linha = cs[0]*2-1\n",
    "            elif m == 1:\n",
    "                grau_linha = cs[0]*2 \n",
    "            elif m == 2:\n",
    "                grau_linha = cs[1]*2-1 \n",
    "            elif m == 3:\n",
    "                grau_linha = cs[1]*2 \n",
    "                \n",
    "            for n in range(4):\n",
    "                if   n == 0:\n",
    "                    grau_coluna = cs[0]*2-1\n",
    "                elif n == 1:\n",
    "                    grau_coluna = cs[0]*2\n",
    "                elif n == 2:\n",
    "                    grau_coluna = cs[1]*2-1\n",
    "                elif n == 3:\n",
    "                    grau_coluna = cs[1]*2\n",
    "\n",
    "                matriz_coord[m][n] = (grau_linha-1, grau_coluna-1)\n",
    "       \n",
    "        \n",
    "        matriz_cs = np.multiply(matriz_cs, rigidez)\n",
    "        \n",
    "        matrizes_coordenada[i,:,:,:] = matriz_coord[:,:,:]\n",
    "        matrizes[i,:,:] = np.add(matrizes[i,:,:], matriz_cs)\n",
    "\n",
    "        i+=1\n",
    "       \n",
    "    return matrizes, matrizes_coordenada\n"
   ]
  },
  {
   "cell_type": "markdown",
   "metadata": {},
   "source": [
    "ex"
   ]
  },
  {
   "cell_type": "code",
   "execution_count": 93,
   "metadata": {},
   "outputs": [
    {
     "data": {
      "text/plain": [
       "array([[[ 0.000e+00,  0.000e+00,  0.000e+00,  0.000e+00],\n",
       "        [ 0.000e+00,  1.050e+08,  0.000e+00, -1.050e+08],\n",
       "        [ 0.000e+00,  0.000e+00,  0.000e+00,  0.000e+00],\n",
       "        [ 0.000e+00, -1.050e+08,  0.000e+00,  1.050e+08]],\n",
       "\n",
       "       [[ 1.400e+08,  0.000e+00, -1.400e+08,  0.000e+00],\n",
       "        [ 0.000e+00,  0.000e+00,  0.000e+00,  0.000e+00],\n",
       "        [-1.400e+08,  0.000e+00,  1.400e+08,  0.000e+00],\n",
       "        [ 0.000e+00,  0.000e+00,  0.000e+00,  0.000e+00]],\n",
       "\n",
       "       [[ 3.024e+07,  4.032e+07, -3.024e+07, -4.032e+07],\n",
       "        [ 4.032e+07,  5.376e+07, -4.032e+07, -5.376e+07],\n",
       "        [-3.024e+07, -4.032e+07,  3.024e+07,  4.032e+07],\n",
       "        [-4.032e+07, -5.376e+07,  4.032e+07,  5.376e+07]]])"
      ]
     },
     "execution_count": 93,
     "metadata": {},
     "output_type": "execute_result"
    }
   ],
   "source": [
    "a,b= matrizes_rigidez(Inc,nm)\n",
    "a"
   ]
  },
  {
   "cell_type": "code",
   "execution_count": 94,
   "metadata": {},
   "outputs": [
    {
     "data": {
      "text/plain": [
       "array([[[[0., 0.],\n",
       "         [0., 1.],\n",
       "         [0., 2.],\n",
       "         [0., 3.]],\n",
       "\n",
       "        [[1., 0.],\n",
       "         [1., 1.],\n",
       "         [1., 2.],\n",
       "         [1., 3.]],\n",
       "\n",
       "        [[2., 0.],\n",
       "         [2., 1.],\n",
       "         [2., 2.],\n",
       "         [2., 3.]],\n",
       "\n",
       "        [[3., 0.],\n",
       "         [3., 1.],\n",
       "         [3., 2.],\n",
       "         [3., 3.]]],\n",
       "\n",
       "\n",
       "       [[[2., 2.],\n",
       "         [2., 3.],\n",
       "         [2., 4.],\n",
       "         [2., 5.]],\n",
       "\n",
       "        [[3., 2.],\n",
       "         [3., 3.],\n",
       "         [3., 4.],\n",
       "         [3., 5.]],\n",
       "\n",
       "        [[4., 2.],\n",
       "         [4., 3.],\n",
       "         [4., 4.],\n",
       "         [4., 5.]],\n",
       "\n",
       "        [[5., 2.],\n",
       "         [5., 3.],\n",
       "         [5., 4.],\n",
       "         [5., 5.]]],\n",
       "\n",
       "\n",
       "       [[[4., 4.],\n",
       "         [4., 5.],\n",
       "         [4., 0.],\n",
       "         [4., 1.]],\n",
       "\n",
       "        [[5., 4.],\n",
       "         [5., 5.],\n",
       "         [5., 0.],\n",
       "         [5., 1.]],\n",
       "\n",
       "        [[0., 4.],\n",
       "         [0., 5.],\n",
       "         [0., 0.],\n",
       "         [0., 1.]],\n",
       "\n",
       "        [[1., 4.],\n",
       "         [1., 5.],\n",
       "         [1., 0.],\n",
       "         [1., 1.]]]])"
      ]
     },
     "execution_count": 94,
     "metadata": {},
     "output_type": "execute_result"
    }
   ],
   "source": [
    "b"
   ]
  },
  {
   "cell_type": "markdown",
   "metadata": {},
   "source": [
    "### Função para matriz de rigidez global"
   ]
  },
  {
   "cell_type": "code",
   "execution_count": 95,
   "metadata": {},
   "outputs": [],
   "source": [
    "def rigidez_global(matrizes_rigidez, matrizes_coordenadas):\n",
    "    matriz_global = np.zeros(shape=(nn*2,nn*2))   # Considerando 2 graus de liberdade~\n",
    "    elemento = 0 \n",
    "    pos_lin = 0\n",
    "    pos_col = 0\n",
    "    for matriz_coordenada in matrizes_coordenadas:\n",
    "        for linha in matriz_coordenada:\n",
    "            for coordenada in linha:\n",
    "                matriz_global[int(coordenada[0])][int(coordenada[1])] += matrizes_rigidez[elemento][pos_lin][pos_col]\n",
    "                pos_col += 1\n",
    "            pos_col = 0\n",
    "            pos_lin += 1\n",
    "        pos_lin = 0\n",
    "        elemento += 1\n",
    "        \n",
    "\n",
    "    return matriz_global\n"
   ]
  },
  {
   "cell_type": "markdown",
   "metadata": {},
   "source": [
    "ex"
   ]
  },
  {
   "cell_type": "code",
   "execution_count": 96,
   "metadata": {},
   "outputs": [
    {
     "data": {
      "text/plain": [
       "array([[ 3.0240e+07,  4.0320e+07,  0.0000e+00,  0.0000e+00, -3.0240e+07,\n",
       "        -4.0320e+07],\n",
       "       [ 4.0320e+07,  1.5876e+08,  0.0000e+00, -1.0500e+08, -4.0320e+07,\n",
       "        -5.3760e+07],\n",
       "       [ 0.0000e+00,  0.0000e+00,  1.4000e+08,  0.0000e+00, -1.4000e+08,\n",
       "         0.0000e+00],\n",
       "       [ 0.0000e+00, -1.0500e+08,  0.0000e+00,  1.0500e+08,  0.0000e+00,\n",
       "         0.0000e+00],\n",
       "       [-3.0240e+07, -4.0320e+07, -1.4000e+08,  0.0000e+00,  1.7024e+08,\n",
       "         4.0320e+07],\n",
       "       [-4.0320e+07, -5.3760e+07,  0.0000e+00,  0.0000e+00,  4.0320e+07,\n",
       "         5.3760e+07]])"
      ]
     },
     "execution_count": 96,
     "metadata": {},
     "output_type": "execute_result"
    }
   ],
   "source": [
    "mat_global = rigidez_global(a, b)\n",
    "mat_global"
   ]
  },
  {
   "cell_type": "markdown",
   "metadata": {},
   "source": [
    "### Condições de contorno"
   ]
  },
  {
   "cell_type": "code",
   "execution_count": 97,
   "metadata": {},
   "outputs": [],
   "source": [
    "def contorno(mat_global, R, F):\n",
    "   contorno_lista = []\n",
    "   for linha in R:\n",
    "      for indice in linha:\n",
    "         contorno_lista.append(int(indice))\n",
    "\n",
    "   matriz_contorno = np.delete(mat_global, contorno_lista, 0)\n",
    "   matriz_contorno = np.delete(matriz_contorno, contorno_lista, 1)\n",
    "   matriz_forca_contorno = np.delete(F, contorno_lista, 0)\n",
    "   return matriz_contorno, matriz_forca_contorno, contorno_lista"
   ]
  },
  {
   "cell_type": "markdown",
   "metadata": {},
   "source": [
    "ex"
   ]
  },
  {
   "cell_type": "code",
   "execution_count": 98,
   "metadata": {},
   "outputs": [
    {
     "data": {
      "text/plain": [
       "array([[ 1.5876e+08, -4.0320e+07, -5.3760e+07],\n",
       "       [-4.0320e+07,  1.7024e+08,  4.0320e+07],\n",
       "       [-5.3760e+07,  4.0320e+07,  5.3760e+07]])"
      ]
     },
     "execution_count": 98,
     "metadata": {},
     "output_type": "execute_result"
    }
   ],
   "source": [
    "global_contorno, forca_contorno, restricoes = contorno(mat_global, R, F)\n",
    "global_contorno"
   ]
  },
  {
   "cell_type": "code",
   "execution_count": 99,
   "metadata": {},
   "outputs": [
    {
     "data": {
      "text/plain": [
       "array([[   0.],\n",
       "       [ 150.],\n",
       "       [-100.]])"
      ]
     },
     "execution_count": 99,
     "metadata": {},
     "output_type": "execute_result"
    }
   ],
   "source": [
    "forca_contorno"
   ]
  },
  {
   "cell_type": "code",
   "execution_count": 100,
   "metadata": {},
   "outputs": [
    {
     "data": {
      "text/plain": [
       "[0, 2, 3]"
      ]
     },
     "execution_count": 100,
     "metadata": {},
     "output_type": "execute_result"
    }
   ],
   "source": [
    "restricoes"
   ]
  },
  {
   "cell_type": "markdown",
   "metadata": {},
   "source": [
    "### Resolvendo a matriz depois das condições de contorno (achar deslocamentos)"
   ]
  },
  {
   "cell_type": "markdown",
   "metadata": {},
   "source": [
    "Aplicando Gauss-Seidel"
   ]
  },
  {
   "cell_type": "code",
   "execution_count": 101,
   "metadata": {},
   "outputs": [],
   "source": [
    "def Gauss_Seidel(a, b):\n",
    "    x = np.zeros(len(a[0]))\n",
    "    erro = 10000\n",
    "    y = np.zeros(len(a[0]))\n",
    "    n = 0\n",
    "    while(erro > 10):\n",
    "        i = 0\n",
    "        while(i < len(y)):\n",
    "            j = 0\n",
    "            sup = 0\n",
    "            while(j < 3):\n",
    "                sup -= a[i][j]*y[j]\n",
    "                j += 1\n",
    "            sup += a[i][i]*y[i]\n",
    "            y[i] = (b[i]+sup)/a[i][i]\n",
    "            i += 1\n",
    "        \n",
    "        f = 0\n",
    "        for g in y:\n",
    "            if g == 0:\n",
    "                erro += abs((g - x[f]))\n",
    "            else:\n",
    "                erro += abs((g - x[f])/i)\n",
    "            f += 1    \n",
    "        erro = erro/f\n",
    "        x = y.copy()\n",
    "    return x"
   ]
  },
  {
   "cell_type": "markdown",
   "metadata": {},
   "source": [
    "ex"
   ]
  },
  {
   "cell_type": "code",
   "execution_count": 102,
   "metadata": {},
   "outputs": [
    {
     "data": {
      "text/plain": [
       "array([-9.50945067e-07,  1.60575208e-06, -4.01537818e-06])"
      ]
     },
     "execution_count": 102,
     "metadata": {},
     "output_type": "execute_result"
    }
   ],
   "source": [
    "deslocamentos = Gauss_Seidel(global_contorno, forca_contorno)\n",
    "deslocamentos"
   ]
  },
  {
   "cell_type": "markdown",
   "metadata": {},
   "source": [
    "### Matriz de deslocamentos"
   ]
  },
  {
   "cell_type": "code",
   "execution_count": 103,
   "metadata": {},
   "outputs": [],
   "source": [
    "def resultado_deslocamentos(deslocamentos, restricoes):\n",
    "    matriz_desolcamentos = np.zeros(shape=(nn*2, 1))\n",
    "    i_deslocamento = 0\n",
    "    linha_matriz = 0\n",
    "    \n",
    "    for elemento in matriz_desolcamentos[:,0]:\n",
    "        if linha_matriz not in restricoes:\n",
    "            matriz_desolcamentos[linha_matriz][0] = deslocamentos[i_deslocamento]\n",
    "            i_deslocamento += 1\n",
    "        linha_matriz += 1\n",
    "\n",
    "    return matriz_desolcamentos\n",
    "        "
   ]
  },
  {
   "cell_type": "markdown",
   "metadata": {},
   "source": [
    "ex"
   ]
  },
  {
   "cell_type": "code",
   "execution_count": 104,
   "metadata": {},
   "outputs": [
    {
     "data": {
      "text/plain": [
       "array([[ 0.00000000e+00],\n",
       "       [-9.50945067e-07],\n",
       "       [ 0.00000000e+00],\n",
       "       [ 0.00000000e+00],\n",
       "       [ 1.60575208e-06],\n",
       "       [-4.01537818e-06]])"
      ]
     },
     "execution_count": 104,
     "metadata": {},
     "output_type": "execute_result"
    }
   ],
   "source": [
    "matriz_desolcamentos = resultado_deslocamentos(deslocamentos, restricoes)\n",
    "matriz_desolcamentos"
   ]
  },
  {
   "cell_type": "markdown",
   "metadata": {},
   "source": [
    "### Reações de apoio"
   ]
  },
  {
   "cell_type": "code",
   "execution_count": 105,
   "metadata": {},
   "outputs": [],
   "source": [
    "def resultado_forcas(matriz_global, matriz_desolcamentos, restricoes):\n",
    "    matriz_forcas = np.matmul(matriz_global, matriz_desolcamentos)\n",
    "    deletar = []\n",
    "    for i in range(matriz_forcas.shape[0]):\n",
    "        if i not in restricoes:\n",
    "            deletar.append(i)\n",
    "    \n",
    "    matriz_forcas = np.delete(matriz_forcas, deletar, 0)\n",
    "    return matriz_forcas"
   ]
  },
  {
   "cell_type": "code",
   "execution_count": 107,
   "metadata": {},
   "outputs": [
    {
     "data": {
      "text/plain": [
       "array([[  75.        ],\n",
       "       [-224.80529141],\n",
       "       [  99.84923205]])"
      ]
     },
     "execution_count": 107,
     "metadata": {},
     "output_type": "execute_result"
    }
   ],
   "source": [
    "matriz_forcas = resultado_forcas(mat_global, matriz_desolcamentos, restricoes)\n",
    "matriz_forcas"
   ]
  },
  {
   "cell_type": "markdown",
   "metadata": {},
   "source": [
    "### Deformações"
   ]
  },
  {
   "cell_type": "code",
   "execution_count": 120,
   "metadata": {},
   "outputs": [],
   "source": [
    "def resultado_deformacao(Inc, matriz_deslocamento, nm):\n",
    "\n",
    "    matriz_deformacao = np.zeros(shape=(nm,1))\n",
    "    i = 0\n",
    "    for elemento in Inc:\n",
    "        c = elemento[5]\n",
    "        s = elemento[6]\n",
    "        l = elemento[4]\n",
    "        no1 = int(elemento[0])\n",
    "        no2 = int(elemento[1])\n",
    "        mat_cs = [-c, -s, c, s]\n",
    "        mat_desloc =[[matriz_deslocamento[no1*2-2][0]],\n",
    "                     [matriz_deslocamento[no1*2-1][0]],\n",
    "                     [matriz_deslocamento[no2*2-2][0]],\n",
    "                     [matriz_deslocamento[no2*2-1][0]]]\n",
    "        #print(mat_desloc)\n",
    "        resultado_mult = np.matmul(mat_cs, mat_desloc)\n",
    "        deformacao = np.multiply(resultado_mult, 1/l)\n",
    "        matriz_deformacao[i][0] = deformacao[0]\n",
    "        i+=1\n",
    "    return matriz_deformacao\n",
    "\n",
    "        "
   ]
  },
  {
   "cell_type": "code",
   "execution_count": 122,
   "metadata": {},
   "outputs": [
    {
     "data": {
      "text/plain": [
       "array([[ 2.37736267e-06],\n",
       "       [ 5.35250694e-06],\n",
       "       [-2.97619048e-06]])"
      ]
     },
     "execution_count": 122,
     "metadata": {},
     "output_type": "execute_result"
    }
   ],
   "source": [
    "matriz_deformacao = resultado_deformacao(Inc, matriz_desolcamentos, nm)\n",
    "matriz_deformacao"
   ]
  },
  {
   "cell_type": "markdown",
   "metadata": {},
   "source": [
    "A funcao 'geraSaida' cria um arquivo nome.txt contendo as reacoes de apoio Ft, \n",
    "deslocamentos Ut, deformacoes Epsi, forcas Fi e tensoes Ti internas. \n",
    "As entradas devem ser vetores coluna."
   ]
  }
 ],
 "metadata": {
  "interpreter": {
   "hash": "e9ce2dd4416f9f978792fd09602620adf87f44287733915ff5f924f311bc8339"
  },
  "kernelspec": {
   "display_name": "Python 3.7.11 ('base')",
   "language": "python",
   "name": "python3"
  },
  "language_info": {
   "codemirror_mode": {
    "name": "ipython",
    "version": 3
   },
   "file_extension": ".py",
   "mimetype": "text/x-python",
   "name": "python",
   "nbconvert_exporter": "python",
   "pygments_lexer": "ipython3",
   "version": "3.7.11"
  },
  "orig_nbformat": 4
 },
 "nbformat": 4,
 "nbformat_minor": 2
}
