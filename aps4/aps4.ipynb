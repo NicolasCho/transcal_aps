{
 "cells": [
  {
   "cell_type": "markdown",
   "metadata": {},
   "source": [
    "# APS 4"
   ]
  },
  {
   "cell_type": "markdown",
   "metadata": {},
   "source": [
    "Funções padrões"
   ]
  },
  {
   "cell_type": "code",
   "execution_count": 1,
   "metadata": {},
   "outputs": [],
   "source": [
    "from funcoesTermosol import plota, importa, geraSaida"
   ]
  },
  {
   "cell_type": "code",
   "execution_count": 2,
   "metadata": {},
   "outputs": [],
   "source": [
    "import math\n",
    "import numpy as np"
   ]
  },
  {
   "cell_type": "markdown",
   "metadata": {},
   "source": [
    "A funcao 'importa' retorna o numero de nos [nn], a matriz dos nos [N], o numero\n",
    "de membros [nm], a matriz de incidencia [Inc], o numero de cargas [nc], o vetor\n",
    "carregamento [F], o numero de restricoes [nr] e o vetor de restricoes [R] \n",
    "contidos no arquivo de entrada."
   ]
  },
  {
   "cell_type": "code",
   "execution_count": 3,
   "metadata": {},
   "outputs": [],
   "source": [
    "[nn,N,nm,Inc,nc,F,nr,R] = importa('entrada_validacao.xls')"
   ]
  },
  {
   "cell_type": "code",
   "execution_count": 4,
   "metadata": {},
   "outputs": [
    {
     "name": "stdout",
     "output_type": "stream",
     "text": [
      "[7, 11, 6, 3]\n"
     ]
    }
   ],
   "source": [
    "print([nn,nm,nc,nr])"
   ]
  },
  {
   "cell_type": "code",
   "execution_count": 5,
   "metadata": {},
   "outputs": [
    {
     "data": {
      "text/plain": [
       "array([[1.00e+00, 2.00e+00, 2.00e+11, 5.25e-06],\n",
       "       [2.00e+00, 4.00e+00, 2.00e+11, 5.25e-06],\n",
       "       [4.00e+00, 6.00e+00, 2.00e+11, 5.25e-06],\n",
       "       [6.00e+00, 7.00e+00, 2.00e+11, 5.25e-06],\n",
       "       [2.00e+00, 3.00e+00, 2.00e+11, 5.25e-06],\n",
       "       [3.00e+00, 4.00e+00, 2.00e+11, 5.25e-06],\n",
       "       [4.00e+00, 5.00e+00, 2.00e+11, 5.25e-06],\n",
       "       [5.00e+00, 6.00e+00, 2.00e+11, 5.25e-06],\n",
       "       [1.00e+00, 3.00e+00, 2.00e+11, 5.25e-06],\n",
       "       [3.00e+00, 5.00e+00, 2.00e+11, 5.25e-06],\n",
       "       [5.00e+00, 7.00e+00, 2.00e+11, 5.25e-06]])"
      ]
     },
     "execution_count": 5,
     "metadata": {},
     "output_type": "execute_result"
    }
   ],
   "source": [
    "Inc"
   ]
  },
  {
   "cell_type": "code",
   "execution_count": 6,
   "metadata": {},
   "outputs": [
    {
     "data": {
      "text/plain": [
       "array([[ 0.],\n",
       "       [ 1.],\n",
       "       [13.]])"
      ]
     },
     "execution_count": 6,
     "metadata": {},
     "output_type": "execute_result"
    }
   ],
   "source": [
    "R"
   ]
  },
  {
   "cell_type": "code",
   "execution_count": 7,
   "metadata": {},
   "outputs": [
    {
     "data": {
      "text/plain": [
       "array([[    0.],\n",
       "       [    0.],\n",
       "       [-1300.],\n",
       "       [-1500.],\n",
       "       [    0.],\n",
       "       [    0.],\n",
       "       [-1300.],\n",
       "       [-1500.],\n",
       "       [    0.],\n",
       "       [    0.],\n",
       "       [-1300.],\n",
       "       [-1500.],\n",
       "       [    0.],\n",
       "       [    0.]])"
      ]
     },
     "execution_count": 7,
     "metadata": {},
     "output_type": "execute_result"
    }
   ],
   "source": [
    "F"
   ]
  },
  {
   "cell_type": "code",
   "execution_count": 8,
   "metadata": {},
   "outputs": [
    {
     "data": {
      "text/plain": [
       "array([[  0., 144., 192., 288., 384., 432., 576.],\n",
       "       [  0.,  72.,   0., 144.,   0.,  72.,   0.]])"
      ]
     },
     "execution_count": 8,
     "metadata": {},
     "output_type": "execute_result"
    }
   ],
   "source": [
    "N"
   ]
  },
  {
   "cell_type": "code",
   "execution_count": 9,
   "metadata": {},
   "outputs": [
    {
     "data": {
      "text/plain": [
       "(2, 7)"
      ]
     },
     "execution_count": 9,
     "metadata": {},
     "output_type": "execute_result"
    }
   ],
   "source": [
    "N.shape"
   ]
  },
  {
   "cell_type": "markdown",
   "metadata": {},
   "source": [
    "### Função para calcular distâncias, cossenos e senos"
   ]
  },
  {
   "cell_type": "code",
   "execution_count": 10,
   "metadata": {},
   "outputs": [],
   "source": [
    "def calc_dist_cs(N, Inc):\n",
    "    l_list = []\n",
    "    c_list = []\n",
    "    s_list = []\n",
    "    \n",
    "    for membro in Inc:\n",
    "        no1 = int(membro[0]) - 1 \n",
    "        no2 = int(membro[1]) - 1\n",
    "        l = (math.sqrt((N[0][no1] - N[0][no2])**2 + (N[1][no1] - N[1][no2])**2))\n",
    "        c = (N[0][no2]-N[0][no1])/l\n",
    "        s = (N[1][no2]-N[1][no1])/l\n",
    "        l_list.append(l)\n",
    "        c_list.append(c)\n",
    "        s_list.append(s)\n",
    "    l_array = np.c_[l_list]\n",
    "    c_array = np.c_[c_list]\n",
    "    s_array = np.c_[s_list]\n",
    "    Inc = np.hstack((Inc, l_array))\n",
    "    Inc = np.hstack((Inc, c_array))\n",
    "    Inc = np.hstack((Inc, s_array))\n",
    "    return Inc"
   ]
  },
  {
   "cell_type": "markdown",
   "metadata": {},
   "source": [
    "ex:"
   ]
  },
  {
   "cell_type": "code",
   "execution_count": 11,
   "metadata": {},
   "outputs": [
    {
     "data": {
      "text/plain": [
       "array([[ 1.00000000e+00,  2.00000000e+00,  2.00000000e+11,\n",
       "         5.25000000e-06,  1.60996894e+02,  8.94427191e-01,\n",
       "         4.47213595e-01],\n",
       "       [ 2.00000000e+00,  4.00000000e+00,  2.00000000e+11,\n",
       "         5.25000000e-06,  1.60996894e+02,  8.94427191e-01,\n",
       "         4.47213595e-01],\n",
       "       [ 4.00000000e+00,  6.00000000e+00,  2.00000000e+11,\n",
       "         5.25000000e-06,  1.60996894e+02,  8.94427191e-01,\n",
       "        -4.47213595e-01],\n",
       "       [ 6.00000000e+00,  7.00000000e+00,  2.00000000e+11,\n",
       "         5.25000000e-06,  1.60996894e+02,  8.94427191e-01,\n",
       "        -4.47213595e-01],\n",
       "       [ 2.00000000e+00,  3.00000000e+00,  2.00000000e+11,\n",
       "         5.25000000e-06,  8.65332306e+01,  5.54700196e-01,\n",
       "        -8.32050294e-01],\n",
       "       [ 3.00000000e+00,  4.00000000e+00,  2.00000000e+11,\n",
       "         5.25000000e-06,  1.73066461e+02,  5.54700196e-01,\n",
       "         8.32050294e-01],\n",
       "       [ 4.00000000e+00,  5.00000000e+00,  2.00000000e+11,\n",
       "         5.25000000e-06,  1.73066461e+02,  5.54700196e-01,\n",
       "        -8.32050294e-01],\n",
       "       [ 5.00000000e+00,  6.00000000e+00,  2.00000000e+11,\n",
       "         5.25000000e-06,  8.65332306e+01,  5.54700196e-01,\n",
       "         8.32050294e-01],\n",
       "       [ 1.00000000e+00,  3.00000000e+00,  2.00000000e+11,\n",
       "         5.25000000e-06,  1.92000000e+02,  1.00000000e+00,\n",
       "         0.00000000e+00],\n",
       "       [ 3.00000000e+00,  5.00000000e+00,  2.00000000e+11,\n",
       "         5.25000000e-06,  1.92000000e+02,  1.00000000e+00,\n",
       "         0.00000000e+00],\n",
       "       [ 5.00000000e+00,  7.00000000e+00,  2.00000000e+11,\n",
       "         5.25000000e-06,  1.92000000e+02,  1.00000000e+00,\n",
       "         0.00000000e+00]])"
      ]
     },
     "execution_count": 11,
     "metadata": {},
     "output_type": "execute_result"
    }
   ],
   "source": [
    "Inc = calc_dist_cs(N,Inc)\n",
    "Inc"
   ]
  },
  {
   "cell_type": "markdown",
   "metadata": {},
   "source": [
    "### Função para achar matrizes de rigidez"
   ]
  },
  {
   "cell_type": "code",
   "execution_count": 12,
   "metadata": {},
   "outputs": [],
   "source": [
    "def matrizes_rigidez(Inc, nm):\n",
    "    matrizes = np.zeros(shape=(nm,4,4))   # Considerando a treliça com duas extremidades\n",
    "    matrizes_coordenada = np.zeros(shape=(nm,4,4,2))   # Considerando as coordenadas alinhadas com os graus de liberdade\n",
    "    \n",
    "    i = 0\n",
    "    for cs in Inc:\n",
    "        rigidez = cs[2]*cs[3]/cs[4]  # E*A/L para todos os membros\n",
    "        \n",
    "    \n",
    "        \n",
    "        c = cs[5]\n",
    "        s = cs[6]\n",
    "        matriz_cs = [[c**2 ,     c*s,   -(c**2), -(c*s) ],\n",
    "                     [c*s ,      s**2,  -(c*s),  -(s**2)],\n",
    "                     [-(c**2),  -(c*s),  c**2,    c*s  ],\n",
    "                     [-(c*s),   -(s**2), c*s,     s**2  ]]\n",
    "\n",
    "        matriz_coord = np.zeros(shape=(4,4,2))\n",
    "\n",
    "        grau_linha = 0\n",
    "        grau_coluna = 0\n",
    "        for m in range(4):\n",
    "            if   m == 0:\n",
    "                grau_linha = cs[0]*2-1\n",
    "            elif m == 1:\n",
    "                grau_linha = cs[0]*2 \n",
    "            elif m == 2:\n",
    "                grau_linha = cs[1]*2-1 \n",
    "            elif m == 3:\n",
    "                grau_linha = cs[1]*2 \n",
    "                \n",
    "            for n in range(4):\n",
    "                if   n == 0:\n",
    "                    grau_coluna = cs[0]*2-1\n",
    "                elif n == 1:\n",
    "                    grau_coluna = cs[0]*2\n",
    "                elif n == 2:\n",
    "                    grau_coluna = cs[1]*2-1\n",
    "                elif n == 3:\n",
    "                    grau_coluna = cs[1]*2\n",
    "\n",
    "                matriz_coord[m][n] = (grau_linha-1, grau_coluna-1)\n",
    "       \n",
    "        \n",
    "        matriz_cs = np.multiply(matriz_cs, rigidez)\n",
    "\n",
    "\n",
    "        matrizes_coordenada[i,:,:,:] = matriz_coord[:,:,:]\n",
    "        matrizes[i,:,:] = np.add(matrizes[i,:,:], matriz_cs)\n",
    "\n",
    "        i+=1\n",
    "       \n",
    "    return matrizes, matrizes_coordenada\n"
   ]
  },
  {
   "cell_type": "markdown",
   "metadata": {},
   "source": [
    "ex"
   ]
  },
  {
   "cell_type": "code",
   "execution_count": 13,
   "metadata": {},
   "outputs": [
    {
     "data": {
      "text/plain": [
       "array([[[ 5217.4919475 ,  2608.74597375, -5217.4919475 , -2608.74597375],\n",
       "        [ 2608.74597375,  1304.37298687, -2608.74597375, -1304.37298687],\n",
       "        [-5217.4919475 , -2608.74597375,  5217.4919475 ,  2608.74597375],\n",
       "        [-2608.74597375, -1304.37298687,  2608.74597375,  1304.37298687]],\n",
       "\n",
       "       [[ 5217.4919475 ,  2608.74597375, -5217.4919475 , -2608.74597375],\n",
       "        [ 2608.74597375,  1304.37298687, -2608.74597375, -1304.37298687],\n",
       "        [-5217.4919475 , -2608.74597375,  5217.4919475 ,  2608.74597375],\n",
       "        [-2608.74597375, -1304.37298687,  2608.74597375,  1304.37298687]],\n",
       "\n",
       "       [[ 5217.4919475 , -2608.74597375, -5217.4919475 ,  2608.74597375],\n",
       "        [-2608.74597375,  1304.37298687,  2608.74597375, -1304.37298687],\n",
       "        [-5217.4919475 ,  2608.74597375,  5217.4919475 , -2608.74597375],\n",
       "        [ 2608.74597375, -1304.37298687, -2608.74597375,  1304.37298687]],\n",
       "\n",
       "       [[ 5217.4919475 , -2608.74597375, -5217.4919475 ,  2608.74597375],\n",
       "        [-2608.74597375,  1304.37298687,  2608.74597375, -1304.37298687],\n",
       "        [-5217.4919475 ,  2608.74597375,  5217.4919475 , -2608.74597375],\n",
       "        [ 2608.74597375, -1304.37298687, -2608.74597375,  1304.37298687]],\n",
       "\n",
       "       [[ 3733.55901305, -5600.33851958, -3733.55901305,  5600.33851958],\n",
       "        [-5600.33851958,  8400.50777937,  5600.33851958, -8400.50777937],\n",
       "        [-3733.55901305,  5600.33851958,  3733.55901305, -5600.33851958],\n",
       "        [ 5600.33851958, -8400.50777937, -5600.33851958,  8400.50777937]],\n",
       "\n",
       "       [[ 1866.77950653,  2800.16925979, -1866.77950653, -2800.16925979],\n",
       "        [ 2800.16925979,  4200.25388969, -2800.16925979, -4200.25388969],\n",
       "        [-1866.77950653, -2800.16925979,  1866.77950653,  2800.16925979],\n",
       "        [-2800.16925979, -4200.25388969,  2800.16925979,  4200.25388969]],\n",
       "\n",
       "       [[ 1866.77950653, -2800.16925979, -1866.77950653,  2800.16925979],\n",
       "        [-2800.16925979,  4200.25388969,  2800.16925979, -4200.25388969],\n",
       "        [-1866.77950653,  2800.16925979,  1866.77950653, -2800.16925979],\n",
       "        [ 2800.16925979, -4200.25388969, -2800.16925979,  4200.25388969]],\n",
       "\n",
       "       [[ 3733.55901305,  5600.33851958, -3733.55901305, -5600.33851958],\n",
       "        [ 5600.33851958,  8400.50777937, -5600.33851958, -8400.50777937],\n",
       "        [-3733.55901305, -5600.33851958,  3733.55901305,  5600.33851958],\n",
       "        [-5600.33851958, -8400.50777937,  5600.33851958,  8400.50777937]],\n",
       "\n",
       "       [[ 5468.75      ,     0.        , -5468.75      ,     0.        ],\n",
       "        [    0.        ,     0.        ,     0.        ,     0.        ],\n",
       "        [-5468.75      ,     0.        ,  5468.75      ,     0.        ],\n",
       "        [    0.        ,     0.        ,     0.        ,     0.        ]],\n",
       "\n",
       "       [[ 5468.75      ,     0.        , -5468.75      ,     0.        ],\n",
       "        [    0.        ,     0.        ,     0.        ,     0.        ],\n",
       "        [-5468.75      ,     0.        ,  5468.75      ,     0.        ],\n",
       "        [    0.        ,     0.        ,     0.        ,     0.        ]],\n",
       "\n",
       "       [[ 5468.75      ,     0.        , -5468.75      ,     0.        ],\n",
       "        [    0.        ,     0.        ,     0.        ,     0.        ],\n",
       "        [-5468.75      ,     0.        ,  5468.75      ,     0.        ],\n",
       "        [    0.        ,     0.        ,     0.        ,     0.        ]]])"
      ]
     },
     "execution_count": 13,
     "metadata": {},
     "output_type": "execute_result"
    }
   ],
   "source": [
    "a,b= matrizes_rigidez(Inc,nm)\n",
    "a"
   ]
  },
  {
   "cell_type": "code",
   "execution_count": 14,
   "metadata": {},
   "outputs": [
    {
     "data": {
      "text/plain": [
       "array([[[[ 0.,  0.],\n",
       "         [ 0.,  1.],\n",
       "         [ 0.,  2.],\n",
       "         [ 0.,  3.]],\n",
       "\n",
       "        [[ 1.,  0.],\n",
       "         [ 1.,  1.],\n",
       "         [ 1.,  2.],\n",
       "         [ 1.,  3.]],\n",
       "\n",
       "        [[ 2.,  0.],\n",
       "         [ 2.,  1.],\n",
       "         [ 2.,  2.],\n",
       "         [ 2.,  3.]],\n",
       "\n",
       "        [[ 3.,  0.],\n",
       "         [ 3.,  1.],\n",
       "         [ 3.,  2.],\n",
       "         [ 3.,  3.]]],\n",
       "\n",
       "\n",
       "       [[[ 2.,  2.],\n",
       "         [ 2.,  3.],\n",
       "         [ 2.,  6.],\n",
       "         [ 2.,  7.]],\n",
       "\n",
       "        [[ 3.,  2.],\n",
       "         [ 3.,  3.],\n",
       "         [ 3.,  6.],\n",
       "         [ 3.,  7.]],\n",
       "\n",
       "        [[ 6.,  2.],\n",
       "         [ 6.,  3.],\n",
       "         [ 6.,  6.],\n",
       "         [ 6.,  7.]],\n",
       "\n",
       "        [[ 7.,  2.],\n",
       "         [ 7.,  3.],\n",
       "         [ 7.,  6.],\n",
       "         [ 7.,  7.]]],\n",
       "\n",
       "\n",
       "       [[[ 6.,  6.],\n",
       "         [ 6.,  7.],\n",
       "         [ 6., 10.],\n",
       "         [ 6., 11.]],\n",
       "\n",
       "        [[ 7.,  6.],\n",
       "         [ 7.,  7.],\n",
       "         [ 7., 10.],\n",
       "         [ 7., 11.]],\n",
       "\n",
       "        [[10.,  6.],\n",
       "         [10.,  7.],\n",
       "         [10., 10.],\n",
       "         [10., 11.]],\n",
       "\n",
       "        [[11.,  6.],\n",
       "         [11.,  7.],\n",
       "         [11., 10.],\n",
       "         [11., 11.]]],\n",
       "\n",
       "\n",
       "       [[[10., 10.],\n",
       "         [10., 11.],\n",
       "         [10., 12.],\n",
       "         [10., 13.]],\n",
       "\n",
       "        [[11., 10.],\n",
       "         [11., 11.],\n",
       "         [11., 12.],\n",
       "         [11., 13.]],\n",
       "\n",
       "        [[12., 10.],\n",
       "         [12., 11.],\n",
       "         [12., 12.],\n",
       "         [12., 13.]],\n",
       "\n",
       "        [[13., 10.],\n",
       "         [13., 11.],\n",
       "         [13., 12.],\n",
       "         [13., 13.]]],\n",
       "\n",
       "\n",
       "       [[[ 2.,  2.],\n",
       "         [ 2.,  3.],\n",
       "         [ 2.,  4.],\n",
       "         [ 2.,  5.]],\n",
       "\n",
       "        [[ 3.,  2.],\n",
       "         [ 3.,  3.],\n",
       "         [ 3.,  4.],\n",
       "         [ 3.,  5.]],\n",
       "\n",
       "        [[ 4.,  2.],\n",
       "         [ 4.,  3.],\n",
       "         [ 4.,  4.],\n",
       "         [ 4.,  5.]],\n",
       "\n",
       "        [[ 5.,  2.],\n",
       "         [ 5.,  3.],\n",
       "         [ 5.,  4.],\n",
       "         [ 5.,  5.]]],\n",
       "\n",
       "\n",
       "       [[[ 4.,  4.],\n",
       "         [ 4.,  5.],\n",
       "         [ 4.,  6.],\n",
       "         [ 4.,  7.]],\n",
       "\n",
       "        [[ 5.,  4.],\n",
       "         [ 5.,  5.],\n",
       "         [ 5.,  6.],\n",
       "         [ 5.,  7.]],\n",
       "\n",
       "        [[ 6.,  4.],\n",
       "         [ 6.,  5.],\n",
       "         [ 6.,  6.],\n",
       "         [ 6.,  7.]],\n",
       "\n",
       "        [[ 7.,  4.],\n",
       "         [ 7.,  5.],\n",
       "         [ 7.,  6.],\n",
       "         [ 7.,  7.]]],\n",
       "\n",
       "\n",
       "       [[[ 6.,  6.],\n",
       "         [ 6.,  7.],\n",
       "         [ 6.,  8.],\n",
       "         [ 6.,  9.]],\n",
       "\n",
       "        [[ 7.,  6.],\n",
       "         [ 7.,  7.],\n",
       "         [ 7.,  8.],\n",
       "         [ 7.,  9.]],\n",
       "\n",
       "        [[ 8.,  6.],\n",
       "         [ 8.,  7.],\n",
       "         [ 8.,  8.],\n",
       "         [ 8.,  9.]],\n",
       "\n",
       "        [[ 9.,  6.],\n",
       "         [ 9.,  7.],\n",
       "         [ 9.,  8.],\n",
       "         [ 9.,  9.]]],\n",
       "\n",
       "\n",
       "       [[[ 8.,  8.],\n",
       "         [ 8.,  9.],\n",
       "         [ 8., 10.],\n",
       "         [ 8., 11.]],\n",
       "\n",
       "        [[ 9.,  8.],\n",
       "         [ 9.,  9.],\n",
       "         [ 9., 10.],\n",
       "         [ 9., 11.]],\n",
       "\n",
       "        [[10.,  8.],\n",
       "         [10.,  9.],\n",
       "         [10., 10.],\n",
       "         [10., 11.]],\n",
       "\n",
       "        [[11.,  8.],\n",
       "         [11.,  9.],\n",
       "         [11., 10.],\n",
       "         [11., 11.]]],\n",
       "\n",
       "\n",
       "       [[[ 0.,  0.],\n",
       "         [ 0.,  1.],\n",
       "         [ 0.,  4.],\n",
       "         [ 0.,  5.]],\n",
       "\n",
       "        [[ 1.,  0.],\n",
       "         [ 1.,  1.],\n",
       "         [ 1.,  4.],\n",
       "         [ 1.,  5.]],\n",
       "\n",
       "        [[ 4.,  0.],\n",
       "         [ 4.,  1.],\n",
       "         [ 4.,  4.],\n",
       "         [ 4.,  5.]],\n",
       "\n",
       "        [[ 5.,  0.],\n",
       "         [ 5.,  1.],\n",
       "         [ 5.,  4.],\n",
       "         [ 5.,  5.]]],\n",
       "\n",
       "\n",
       "       [[[ 4.,  4.],\n",
       "         [ 4.,  5.],\n",
       "         [ 4.,  8.],\n",
       "         [ 4.,  9.]],\n",
       "\n",
       "        [[ 5.,  4.],\n",
       "         [ 5.,  5.],\n",
       "         [ 5.,  8.],\n",
       "         [ 5.,  9.]],\n",
       "\n",
       "        [[ 8.,  4.],\n",
       "         [ 8.,  5.],\n",
       "         [ 8.,  8.],\n",
       "         [ 8.,  9.]],\n",
       "\n",
       "        [[ 9.,  4.],\n",
       "         [ 9.,  5.],\n",
       "         [ 9.,  8.],\n",
       "         [ 9.,  9.]]],\n",
       "\n",
       "\n",
       "       [[[ 8.,  8.],\n",
       "         [ 8.,  9.],\n",
       "         [ 8., 12.],\n",
       "         [ 8., 13.]],\n",
       "\n",
       "        [[ 9.,  8.],\n",
       "         [ 9.,  9.],\n",
       "         [ 9., 12.],\n",
       "         [ 9., 13.]],\n",
       "\n",
       "        [[12.,  8.],\n",
       "         [12.,  9.],\n",
       "         [12., 12.],\n",
       "         [12., 13.]],\n",
       "\n",
       "        [[13.,  8.],\n",
       "         [13.,  9.],\n",
       "         [13., 12.],\n",
       "         [13., 13.]]]])"
      ]
     },
     "execution_count": 14,
     "metadata": {},
     "output_type": "execute_result"
    }
   ],
   "source": [
    "b"
   ]
  },
  {
   "cell_type": "markdown",
   "metadata": {},
   "source": [
    "### Função para matriz de rigidez global"
   ]
  },
  {
   "cell_type": "code",
   "execution_count": 15,
   "metadata": {},
   "outputs": [],
   "source": [
    "def rigidez_global(matrizes_rigidez, matrizes_coordenadas, nn):\n",
    "    matriz_global = np.zeros(shape=(nn*2,nn*2))   # Considerando 2 graus de liberdade~\n",
    "    elemento = 0 \n",
    "    pos_lin = 0\n",
    "    pos_col = 0\n",
    "    for matriz_coordenada in matrizes_coordenadas:\n",
    "        for linha in matriz_coordenada:\n",
    "            for coordenada in linha:\n",
    "                matriz_global[int(coordenada[0])][int(coordenada[1])] += matrizes_rigidez[elemento][pos_lin][pos_col]\n",
    "                pos_col += 1\n",
    "            pos_col = 0\n",
    "            pos_lin += 1\n",
    "        pos_lin = 0\n",
    "        elemento += 1\n",
    "        \n",
    "\n",
    "    return matriz_global\n"
   ]
  },
  {
   "cell_type": "markdown",
   "metadata": {},
   "source": [
    "ex"
   ]
  },
  {
   "cell_type": "code",
   "execution_count": 16,
   "metadata": {},
   "outputs": [
    {
     "data": {
      "text/plain": [
       "array([[10686.2419475 ,  2608.74597375, -5217.4919475 , -2608.74597375,\n",
       "        -5468.75      ,     0.        ,     0.        ,     0.        ,\n",
       "            0.        ,     0.        ,     0.        ,     0.        ,\n",
       "            0.        ,     0.        ],\n",
       "       [ 2608.74597375,  1304.37298687, -2608.74597375, -1304.37298687,\n",
       "            0.        ,     0.        ,     0.        ,     0.        ,\n",
       "            0.        ,     0.        ,     0.        ,     0.        ,\n",
       "            0.        ,     0.        ],\n",
       "       [-5217.4919475 , -2608.74597375, 14168.54290805,  -382.84657208,\n",
       "        -3733.55901305,  5600.33851958, -5217.4919475 , -2608.74597375,\n",
       "            0.        ,     0.        ,     0.        ,     0.        ,\n",
       "            0.        ,     0.        ],\n",
       "       [-2608.74597375, -1304.37298687,  -382.84657208, 11009.25375312,\n",
       "         5600.33851958, -8400.50777937, -2608.74597375, -1304.37298687,\n",
       "            0.        ,     0.        ,     0.        ,     0.        ,\n",
       "            0.        ,     0.        ],\n",
       "       [-5468.75      ,     0.        , -3733.55901305,  5600.33851958,\n",
       "        16537.83851958, -2800.16925979, -1866.77950653, -2800.16925979,\n",
       "        -5468.75      ,     0.        ,     0.        ,     0.        ,\n",
       "            0.        ,     0.        ],\n",
       "       [    0.        ,     0.        ,  5600.33851958, -8400.50777937,\n",
       "        -2800.16925979, 12600.76166906, -2800.16925979, -4200.25388969,\n",
       "            0.        ,     0.        ,     0.        ,     0.        ,\n",
       "            0.        ,     0.        ],\n",
       "       [    0.        ,     0.        , -5217.4919475 , -2608.74597375,\n",
       "        -1866.77950653, -2800.16925979, 14168.54290805,     0.        ,\n",
       "        -1866.77950653,  2800.16925979, -5217.4919475 ,  2608.74597375,\n",
       "            0.        ,     0.        ],\n",
       "       [    0.        ,     0.        , -2608.74597375, -1304.37298687,\n",
       "        -2800.16925979, -4200.25388969,     0.        , 11009.25375312,\n",
       "         2800.16925979, -4200.25388969,  2608.74597375, -1304.37298687,\n",
       "            0.        ,     0.        ],\n",
       "       [    0.        ,     0.        ,     0.        ,     0.        ,\n",
       "        -5468.75      ,     0.        , -1866.77950653,  2800.16925979,\n",
       "        16537.83851958,  2800.16925979, -3733.55901305, -5600.33851958,\n",
       "        -5468.75      ,     0.        ],\n",
       "       [    0.        ,     0.        ,     0.        ,     0.        ,\n",
       "            0.        ,     0.        ,  2800.16925979, -4200.25388969,\n",
       "         2800.16925979, 12600.76166906, -5600.33851958, -8400.50777937,\n",
       "            0.        ,     0.        ],\n",
       "       [    0.        ,     0.        ,     0.        ,     0.        ,\n",
       "            0.        ,     0.        , -5217.4919475 ,  2608.74597375,\n",
       "        -3733.55901305, -5600.33851958, 14168.54290805,   382.84657208,\n",
       "        -5217.4919475 ,  2608.74597375],\n",
       "       [    0.        ,     0.        ,     0.        ,     0.        ,\n",
       "            0.        ,     0.        ,  2608.74597375, -1304.37298687,\n",
       "        -5600.33851958, -8400.50777937,   382.84657208, 11009.25375312,\n",
       "         2608.74597375, -1304.37298687],\n",
       "       [    0.        ,     0.        ,     0.        ,     0.        ,\n",
       "            0.        ,     0.        ,     0.        ,     0.        ,\n",
       "        -5468.75      ,     0.        , -5217.4919475 ,  2608.74597375,\n",
       "        10686.2419475 , -2608.74597375],\n",
       "       [    0.        ,     0.        ,     0.        ,     0.        ,\n",
       "            0.        ,     0.        ,     0.        ,     0.        ,\n",
       "            0.        ,     0.        ,  2608.74597375, -1304.37298687,\n",
       "        -2608.74597375,  1304.37298687]])"
      ]
     },
     "execution_count": 16,
     "metadata": {},
     "output_type": "execute_result"
    }
   ],
   "source": [
    "mat_global = rigidez_global(a, b, nn)\n",
    "mat_global"
   ]
  },
  {
   "cell_type": "markdown",
   "metadata": {},
   "source": [
    "### Condições de contorno"
   ]
  },
  {
   "cell_type": "code",
   "execution_count": 17,
   "metadata": {},
   "outputs": [],
   "source": [
    "def contorno(mat_global, R, F):\n",
    "   contorno_lista = []\n",
    "   for linha in R:\n",
    "      for indice in linha:\n",
    "         contorno_lista.append(int(indice))\n",
    "\n",
    "   matriz_contorno = np.delete(mat_global, contorno_lista, 0)\n",
    "   matriz_contorno = np.delete(matriz_contorno, contorno_lista, 1)\n",
    "   matriz_forca_contorno = np.delete(F, contorno_lista, 0)\n",
    "   return matriz_contorno, matriz_forca_contorno, contorno_lista"
   ]
  },
  {
   "cell_type": "markdown",
   "metadata": {},
   "source": [
    "ex"
   ]
  },
  {
   "cell_type": "code",
   "execution_count": 18,
   "metadata": {},
   "outputs": [
    {
     "data": {
      "text/plain": [
       "array([[14168.54290805,  -382.84657208, -3733.55901305,  5600.33851958,\n",
       "        -5217.4919475 , -2608.74597375,     0.        ,     0.        ,\n",
       "            0.        ,     0.        ,     0.        ],\n",
       "       [ -382.84657208, 11009.25375312,  5600.33851958, -8400.50777937,\n",
       "        -2608.74597375, -1304.37298687,     0.        ,     0.        ,\n",
       "            0.        ,     0.        ,     0.        ],\n",
       "       [-3733.55901305,  5600.33851958, 16537.83851958, -2800.16925979,\n",
       "        -1866.77950653, -2800.16925979, -5468.75      ,     0.        ,\n",
       "            0.        ,     0.        ,     0.        ],\n",
       "       [ 5600.33851958, -8400.50777937, -2800.16925979, 12600.76166906,\n",
       "        -2800.16925979, -4200.25388969,     0.        ,     0.        ,\n",
       "            0.        ,     0.        ,     0.        ],\n",
       "       [-5217.4919475 , -2608.74597375, -1866.77950653, -2800.16925979,\n",
       "        14168.54290805,     0.        , -1866.77950653,  2800.16925979,\n",
       "        -5217.4919475 ,  2608.74597375,     0.        ],\n",
       "       [-2608.74597375, -1304.37298687, -2800.16925979, -4200.25388969,\n",
       "            0.        , 11009.25375312,  2800.16925979, -4200.25388969,\n",
       "         2608.74597375, -1304.37298687,     0.        ],\n",
       "       [    0.        ,     0.        , -5468.75      ,     0.        ,\n",
       "        -1866.77950653,  2800.16925979, 16537.83851958,  2800.16925979,\n",
       "        -3733.55901305, -5600.33851958, -5468.75      ],\n",
       "       [    0.        ,     0.        ,     0.        ,     0.        ,\n",
       "         2800.16925979, -4200.25388969,  2800.16925979, 12600.76166906,\n",
       "        -5600.33851958, -8400.50777937,     0.        ],\n",
       "       [    0.        ,     0.        ,     0.        ,     0.        ,\n",
       "        -5217.4919475 ,  2608.74597375, -3733.55901305, -5600.33851958,\n",
       "        14168.54290805,   382.84657208, -5217.4919475 ],\n",
       "       [    0.        ,     0.        ,     0.        ,     0.        ,\n",
       "         2608.74597375, -1304.37298687, -5600.33851958, -8400.50777937,\n",
       "          382.84657208, 11009.25375312,  2608.74597375],\n",
       "       [    0.        ,     0.        ,     0.        ,     0.        ,\n",
       "            0.        ,     0.        , -5468.75      ,     0.        ,\n",
       "        -5217.4919475 ,  2608.74597375, 10686.2419475 ]])"
      ]
     },
     "execution_count": 18,
     "metadata": {},
     "output_type": "execute_result"
    }
   ],
   "source": [
    "global_contorno, forca_contorno, restricoes = contorno(mat_global, R, F)\n",
    "global_contorno"
   ]
  },
  {
   "cell_type": "code",
   "execution_count": 19,
   "metadata": {},
   "outputs": [
    {
     "data": {
      "text/plain": [
       "array([[-1300.],\n",
       "       [-1500.],\n",
       "       [    0.],\n",
       "       [    0.],\n",
       "       [-1300.],\n",
       "       [-1500.],\n",
       "       [    0.],\n",
       "       [    0.],\n",
       "       [-1300.],\n",
       "       [-1500.],\n",
       "       [    0.]])"
      ]
     },
     "execution_count": 19,
     "metadata": {},
     "output_type": "execute_result"
    }
   ],
   "source": [
    "forca_contorno"
   ]
  },
  {
   "cell_type": "code",
   "execution_count": 20,
   "metadata": {},
   "outputs": [
    {
     "data": {
      "text/plain": [
       "[0, 1, 13]"
      ]
     },
     "execution_count": 20,
     "metadata": {},
     "output_type": "execute_result"
    }
   ],
   "source": [
    "restricoes"
   ]
  },
  {
   "cell_type": "markdown",
   "metadata": {},
   "source": [
    "### Resolvendo a matriz depois das condições de contorno (achar deslocamentos)"
   ]
  },
  {
   "cell_type": "markdown",
   "metadata": {},
   "source": [
    "Aplicando Gauss-Seidel"
   ]
  },
  {
   "cell_type": "code",
   "execution_count": 21,
   "metadata": {},
   "outputs": [],
   "source": [
    "def Gauss_Seidel(a, b):\n",
    "    x = np.zeros((len(b),1))\n",
    "    erro = 10000\n",
    "    n = 0\n",
    "    while(erro > 1e-10):\n",
    "        i = 0\n",
    "        while(i < len(b)):\n",
    "            sup = 0\n",
    "            j = 0\n",
    "            while(j < len(b)):\n",
    "                if j != i:\n",
    "                    sup += a[i][j]*x[j]\n",
    "                j += 1\n",
    "                \n",
    "            y = (b[i]-sup)/a[i][i]\n",
    "        \n",
    "            if y != 0:\n",
    "                erro = abs((y - x[i]) / y)\n",
    "                x[i] = y\n",
    "            i += 1\n",
    "            \n",
    "    return x"
   ]
  },
  {
   "cell_type": "markdown",
   "metadata": {},
   "source": [
    "ex"
   ]
  },
  {
   "cell_type": "code",
   "execution_count": 22,
   "metadata": {},
   "outputs": [
    {
     "data": {
      "text/plain": [
       "array([[ 0.97027523],\n",
       "       [-4.16384091],\n",
       "       [ 0.34742857],\n",
       "       [-4.50318374],\n",
       "       [ 0.25083339],\n",
       "       [-4.28701042],\n",
       "       [ 0.53942857],\n",
       "       [-4.47851899],\n",
       "       [-0.31315004],\n",
       "       [-4.10208593],\n",
       "       [ 1.12457142]])"
      ]
     },
     "execution_count": 22,
     "metadata": {},
     "output_type": "execute_result"
    }
   ],
   "source": [
    "deslocamentos = Gauss_Seidel(global_contorno, forca_contorno)\n",
    "deslocamentos"
   ]
  },
  {
   "cell_type": "markdown",
   "metadata": {},
   "source": [
    "### Matriz de deslocamentos"
   ]
  },
  {
   "cell_type": "code",
   "execution_count": 23,
   "metadata": {},
   "outputs": [],
   "source": [
    "def resultado_deslocamentos(deslocamentos, restricoes, nn):\n",
    "    matriz_desolcamentos = np.zeros(shape=(nn*2, 1))\n",
    "    i_deslocamento = 0\n",
    "    linha_matriz = 0\n",
    "    \n",
    "    for elemento in matriz_desolcamentos[:,0]:\n",
    "        if linha_matriz not in restricoes:\n",
    "            matriz_desolcamentos[linha_matriz][0] = deslocamentos[i_deslocamento]\n",
    "            i_deslocamento += 1\n",
    "        linha_matriz += 1\n",
    "\n",
    "    return matriz_desolcamentos\n",
    "        "
   ]
  },
  {
   "cell_type": "markdown",
   "metadata": {},
   "source": [
    "ex"
   ]
  },
  {
   "cell_type": "code",
   "execution_count": 24,
   "metadata": {},
   "outputs": [
    {
     "data": {
      "text/plain": [
       "array([[ 0.        ],\n",
       "       [ 0.        ],\n",
       "       [ 0.97027523],\n",
       "       [-4.16384091],\n",
       "       [ 0.34742857],\n",
       "       [-4.50318374],\n",
       "       [ 0.25083339],\n",
       "       [-4.28701042],\n",
       "       [ 0.53942857],\n",
       "       [-4.47851899],\n",
       "       [-0.31315004],\n",
       "       [-4.10208593],\n",
       "       [ 1.12457142],\n",
       "       [ 0.        ]])"
      ]
     },
     "execution_count": 24,
     "metadata": {},
     "output_type": "execute_result"
    }
   ],
   "source": [
    "matriz_desolcamentos = resultado_deslocamentos(deslocamentos, restricoes, nn)\n",
    "matriz_desolcamentos"
   ]
  },
  {
   "cell_type": "markdown",
   "metadata": {},
   "source": [
    "### Reações de apoio"
   ]
  },
  {
   "cell_type": "code",
   "execution_count": 25,
   "metadata": {},
   "outputs": [],
   "source": [
    "def resultado_forcas(matriz_global, matriz_desolcamentos, restricoes):\n",
    "    matriz_forcas = np.matmul(matriz_global, matriz_desolcamentos)\n",
    "    deletar = []\n",
    "    for i in range(matriz_forcas.shape[0]):\n",
    "        if i not in restricoes:\n",
    "            deletar.append(i)\n",
    "    \n",
    "    matriz_forcas = np.delete(matriz_forcas, deletar, 0)\n",
    "    return matriz_forcas"
   ]
  },
  {
   "cell_type": "code",
   "execution_count": 26,
   "metadata": {},
   "outputs": [
    {
     "data": {
      "text/plain": [
       "array([[3900.00000276],\n",
       "       [2899.9999967 ],\n",
       "       [1599.99999633]])"
      ]
     },
     "execution_count": 26,
     "metadata": {},
     "output_type": "execute_result"
    }
   ],
   "source": [
    "apoios = resultado_forcas(mat_global, matriz_desolcamentos, restricoes)\n",
    "apoios"
   ]
  },
  {
   "cell_type": "markdown",
   "metadata": {},
   "source": [
    "### Deformações"
   ]
  },
  {
   "cell_type": "code",
   "execution_count": 27,
   "metadata": {},
   "outputs": [],
   "source": [
    "def resultado_deformacao(Inc, matriz_deslocamento, nm):\n",
    "\n",
    "    matriz_deformacao = np.zeros(shape=(nm,1))\n",
    "    i = 0\n",
    "    for elemento in Inc:\n",
    "        c = elemento[5]\n",
    "        s = elemento[6]\n",
    "        l = elemento[4]\n",
    "        no1 = int(elemento[0])\n",
    "        no2 = int(elemento[1])\n",
    "        mat_cs = [-c, -s, c, s]\n",
    "        mat_desloc =[[matriz_deslocamento[no1*2-2][0]],\n",
    "                     [matriz_deslocamento[no1*2-1][0]],\n",
    "                     [matriz_deslocamento[no2*2-2][0]],\n",
    "                     [matriz_deslocamento[no2*2-1][0]]]\n",
    "        #print(mat_desloc)\n",
    "        resultado_mult = np.matmul(mat_cs, mat_desloc)\n",
    "        deformacao = np.multiply(resultado_mult, 1/l)\n",
    "        matriz_deformacao[i][0] = deformacao[0]\n",
    "        i+=1\n",
    "    return matriz_deformacao\n",
    "\n",
    "        "
   ]
  },
  {
   "cell_type": "markdown",
   "metadata": {},
   "source": [
    "ex"
   ]
  },
  {
   "cell_type": "code",
   "execution_count": 28,
   "metadata": {},
   "outputs": [
    {
     "data": {
      "text/plain": [
       "array([[-0.00617581],\n",
       "       [-0.00433904],\n",
       "       [-0.00364692],\n",
       "       [-0.00340734],\n",
       "       [-0.00072969],\n",
       "       [ 0.00072969],\n",
       "       [ 0.0018457 ],\n",
       "       [-0.0018457 ],\n",
       "       [ 0.00180952],\n",
       "       [ 0.001     ],\n",
       "       [ 0.00304762]])"
      ]
     },
     "execution_count": 28,
     "metadata": {},
     "output_type": "execute_result"
    }
   ],
   "source": [
    "matriz_deformacao = resultado_deformacao(Inc, matriz_desolcamentos, nm)\n",
    "matriz_deformacao"
   ]
  },
  {
   "cell_type": "markdown",
   "metadata": {},
   "source": [
    "### Tensões internas"
   ]
  },
  {
   "cell_type": "code",
   "execution_count": 29,
   "metadata": {},
   "outputs": [],
   "source": [
    "def resultado_tensao(Inc, mat_deformacao):\n",
    "    mat_tensao = mat_deformacao.copy()\n",
    "    i = 0\n",
    "    for elemento in Inc: \n",
    "        mat_tensao[i][0] = mat_deformacao[i][0]*elemento[2]\n",
    "        i+=1\n",
    "    return mat_tensao"
   ]
  },
  {
   "cell_type": "code",
   "execution_count": 30,
   "metadata": {},
   "outputs": [
    {
     "data": {
      "text/plain": [
       "array([[-1.23516136e+09],\n",
       "       [-8.67807333e+08],\n",
       "       [-7.29384077e+08],\n",
       "       [-6.81468334e+08],\n",
       "       [-1.45938980e+08],\n",
       "       [ 1.45938979e+08],\n",
       "       [ 3.69139773e+08],\n",
       "       [-3.69139773e+08],\n",
       "       [ 3.61904760e+08],\n",
       "       [ 1.99999999e+08],\n",
       "       [ 6.09523808e+08]])"
      ]
     },
     "execution_count": 30,
     "metadata": {},
     "output_type": "execute_result"
    }
   ],
   "source": [
    "tensoes = resultado_tensao(Inc, matriz_deformacao)\n",
    "tensoes"
   ]
  },
  {
   "cell_type": "markdown",
   "metadata": {},
   "source": [
    "### Forças internas"
   ]
  },
  {
   "cell_type": "code",
   "execution_count": 31,
   "metadata": {},
   "outputs": [],
   "source": [
    "def resultado_forca(Inc, mat_tensao):\n",
    "    mat_forca = mat_tensao.copy()\n",
    "    i = 0\n",
    "    for elemento in Inc: \n",
    "        mat_forca[i][0] = mat_tensao[i][0]*elemento[3]\n",
    "        i+=1\n",
    "    return mat_forca"
   ]
  },
  {
   "cell_type": "markdown",
   "metadata": {},
   "source": [
    "ex"
   ]
  },
  {
   "cell_type": "code",
   "execution_count": 32,
   "metadata": {},
   "outputs": [
    {
     "data": {
      "text/plain": [
       "array([[-6484.59712737],\n",
       "       [-4555.98849722],\n",
       "       [-3829.26640398],\n",
       "       [-3577.70875579],\n",
       "       [ -766.17964319],\n",
       "       [  766.17964215],\n",
       "       [ 1937.98380865],\n",
       "       [-1937.9838106 ],\n",
       "       [ 1899.99999063],\n",
       "       [ 1049.99999349],\n",
       "       [ 3199.99999266]])"
      ]
     },
     "execution_count": 32,
     "metadata": {},
     "output_type": "execute_result"
    }
   ],
   "source": [
    "forcas = resultado_forca(Inc, tensoes)\n",
    "forcas"
   ]
  },
  {
   "cell_type": "markdown",
   "metadata": {},
   "source": [
    "### SAÍDA"
   ]
  },
  {
   "cell_type": "code",
   "execution_count": 33,
   "metadata": {},
   "outputs": [],
   "source": [
    "#geraSaida(\"saida\", apoios, matriz_desolcamentos,matriz_deformacao, forcas, tensoes)"
   ]
  },
  {
   "cell_type": "markdown",
   "metadata": {},
   "source": [
    "### Gráficos"
   ]
  },
  {
   "cell_type": "code",
   "execution_count": 34,
   "metadata": {},
   "outputs": [
    {
     "data": {
      "text/plain": [
       "array([[  0., 144., 192., 288., 384., 432., 576.],\n",
       "       [  0.,  72.,   0., 144.,   0.,  72.,   0.]])"
      ]
     },
     "execution_count": 34,
     "metadata": {},
     "output_type": "execute_result"
    }
   ],
   "source": [
    "N"
   ]
  },
  {
   "cell_type": "code",
   "execution_count": 35,
   "metadata": {},
   "outputs": [
    {
     "data": {
      "text/plain": [
       "array([[ 0.        ],\n",
       "       [ 0.        ],\n",
       "       [ 0.97027523],\n",
       "       [-4.16384091],\n",
       "       [ 0.34742857],\n",
       "       [-4.50318374],\n",
       "       [ 0.25083339],\n",
       "       [-4.28701042],\n",
       "       [ 0.53942857],\n",
       "       [-4.47851899],\n",
       "       [-0.31315004],\n",
       "       [-4.10208593],\n",
       "       [ 1.12457142],\n",
       "       [ 0.        ]])"
      ]
     },
     "execution_count": 35,
     "metadata": {},
     "output_type": "execute_result"
    }
   ],
   "source": [
    "matriz_desolcamentos"
   ]
  },
  {
   "cell_type": "code",
   "execution_count": 36,
   "metadata": {},
   "outputs": [],
   "source": [
    "def novas_coordenadas(N, matriz_deslocamentos):\n",
    "    novo_N = N.copy()\n",
    "    i_desloc = 0\n",
    "    x = 0\n",
    "    y = 0\n",
    "    for x in range(novo_N.shape[0]):\n",
    "        for y in range(novo_N.shape[1]):\n",
    "            novo_N[x][y] += matriz_deslocamentos[i_desloc][0]*1e1\n",
    "            i_desloc += 2\n",
    "        i_desloc = 1\n",
    "    return novo_N"
   ]
  },
  {
   "cell_type": "markdown",
   "metadata": {},
   "source": [
    "ex"
   ]
  },
  {
   "cell_type": "code",
   "execution_count": 37,
   "metadata": {},
   "outputs": [
    {
     "data": {
      "image/png": "[encoded data removed]",
      "text/plain": [
       "<Figure size 432x288 with 1 Axes>"
      ]
     },
     "metadata": {
      "needs_background": "light"
     },
     "output_type": "display_data"
    }
   ],
   "source": [
    "plota(N, Inc)"
   ]
  },
  {
   "cell_type": "code",
   "execution_count": 38,
   "metadata": {},
   "outputs": [
    {
     "data": {
      "text/plain": [
       "array([[  0.        , 153.70275231, 195.4742857 , 290.50833387,\n",
       "        389.39428569, 428.86849958, 587.24571424],\n",
       "       [  0.        ,  30.36159095, -45.03183743, 101.12989584,\n",
       "        -44.78518992,  30.97914066,   0.        ]])"
      ]
     },
     "execution_count": 38,
     "metadata": {},
     "output_type": "execute_result"
    }
   ],
   "source": [
    "new_N = novas_coordenadas(N, matriz_desolcamentos)\n",
    "new_N"
   ]
  },
  {
   "cell_type": "code",
   "execution_count": 39,
   "metadata": {},
   "outputs": [
    {
     "data": {
      "image/png": "[encoded data removed]",
      "text/plain": [
       "<Figure size 432x288 with 1 Axes>"
      ]
     },
     "metadata": {
      "needs_background": "light"
     },
     "output_type": "display_data"
    }
   ],
   "source": [
    "plota(new_N, Inc)"
   ]
  },
  {
   "cell_type": "code",
   "execution_count": null,
   "metadata": {},
   "outputs": [],
   "source": []
  }
 ],
 "metadata": {
  "interpreter": {
   "hash": "9ecad590614c3972c0eb338fd632b89622f073343c4162b4ec281d58f6cd9557"
  },
  "kernelspec": {
   "display_name": "Python 3.9.6 64-bit",
   "language": "python",
   "name": "python3"
  },
  "language_info": {
   "codemirror_mode": {
    "name": "ipython",
    "version": 3
   },
   "file_extension": ".py",
   "mimetype": "text/x-python",
   "name": "python",
   "nbconvert_exporter": "python",
   "pygments_lexer": "ipython3",
   "version": "3.9.6"
  },
  "orig_nbformat": 4
 },
 "nbformat": 4,
 "nbformat_minor": 2
}
