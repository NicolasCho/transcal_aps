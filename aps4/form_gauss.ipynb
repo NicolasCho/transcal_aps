{
 "cells": [
  {
   "cell_type": "code",
   "execution_count": 112,
   "metadata": {},
   "outputs": [],
   "source": [
    "import numpy as np"
   ]
  },
  {
   "cell_type": "code",
   "execution_count": 113,
   "metadata": {},
   "outputs": [],
   "source": [
    "k = 10e8\n",
    "a = [[1.59, -0.4, -0.54], [-0.4, 1.7, 0.4], [-0.54, 0.4, 0.54]]\n",
    "x = [0, 0, 0]\n",
    "b = [0, 150, -100]\n",
    "for r in a:\n",
    "    r[0] = r[0]*k\n",
    "    r[1] = r[1]*k\n",
    "    r[2] = r[2]*k"
   ]
  },
  {
   "cell_type": "code",
   "execution_count": 114,
   "metadata": {},
   "outputs": [],
   "source": [
    "erro = 10000\n",
    "y = [0,0,0]\n",
    "n = 0\n",
    "while(erro > 10):\n",
    "    y[0] = (b[0]-k*a[0][1]*y[1]-k*a[0][2]*y[2])/(k*a[0][0])\n",
    "    y[1] = (b[1]-k*a[1][0]*y[0]-k*a[1][2]*y[2])/(k*a[1][1])\n",
    "    y[2] = (b[2]-k*a[2][0]*y[0]-k*a[2][1]*y[1])/(k*a[2][2])\n",
    "    \n",
    "    f = 0\n",
    "    for i in y:\n",
    "        if i == 0:\n",
    "            erro += abs((i - x[f]))\n",
    "        else:\n",
    "            erro += abs((i - x[f])/i)\n",
    "        f += 1    \n",
    "    erro = erro/f\n",
    "    x = [y[0], y[1], y[2]]\n",
    "    n += 1\n",
    "    "
   ]
  },
  {
   "cell_type": "code",
   "execution_count": 115,
   "metadata": {},
   "outputs": [],
   "source": [
    "def Gauss_Seidel(a, b):\n",
    "    x = np.zeros(len(a[0]))\n",
    "    erro = 10000\n",
    "    y = np.zeros(len(a[0]))\n",
    "    n = 0\n",
    "    while(erro > 10):\n",
    "        i = 0\n",
    "        while(i < len(y)):\n",
    "            j = 0\n",
    "            sup = 0\n",
    "            while(j < 3):\n",
    "                sup -= a[i][j]*y[j]\n",
    "                j += 1\n",
    "            sup += a[i][i]*y[i]\n",
    "            y[i] = (b[i]+sup)/a[i][i]\n",
    "            i += 1\n",
    "        \n",
    "        f = 0\n",
    "        for g in y:\n",
    "            if g == 0:\n",
    "                erro += abs((g - x[f]))\n",
    "            else:\n",
    "                erro += abs((g - x[f])/i)\n",
    "            f += 1    \n",
    "        erro = erro/f\n",
    "        x = y.copy()\n",
    "    return x\n",
    "\n",
    "    "
   ]
  },
  {
   "cell_type": "code",
   "execution_count": 116,
   "metadata": {},
   "outputs": [
    {
     "data": {
      "text/plain": [
       "array([-9.50919480e-08,  1.59493761e-07, -3.98420660e-07])"
      ]
     },
     "execution_count": 116,
     "metadata": {},
     "output_type": "execute_result"
    }
   ],
   "source": [
    "Gauss_Seidel(a , b)"
   ]
  }
 ],
 "metadata": {
  "interpreter": {
   "hash": "2469a70536e4d2335a2ea8907942d0699c37342a371ac185bdb5b0aa6f073890"
  },
  "kernelspec": {
   "display_name": "Python 3.9.7 64-bit",
   "language": "python",
   "name": "python3"
  },
  "language_info": {
   "codemirror_mode": {
    "name": "ipython",
    "version": 3
   },
   "file_extension": ".py",
   "mimetype": "text/x-python",
   "name": "python",
   "nbconvert_exporter": "python",
   "pygments_lexer": "ipython3",
   "version": "3.9.7"
  },
  "orig_nbformat": 4
 },
 "nbformat": 4,
 "nbformat_minor": 2
}
