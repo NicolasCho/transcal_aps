{
 "cells": [
  {
   "cell_type": "code",
   "execution_count": 16,
   "metadata": {},
   "outputs": [],
   "source": [
    "import math\n",
    "import matplotlib.pyplot as plt\n",
    "import numpy as np"
   ]
  },
  {
   "cell_type": "markdown",
   "metadata": {},
   "source": [
    "#### Declaração de variáveis"
   ]
  },
  {
   "cell_type": "code",
   "execution_count": 17,
   "metadata": {},
   "outputs": [],
   "source": [
    "h = 19\n",
    "r = 12e-3 #metros\n",
    "l = 168e-3 #metros\n",
    "tb = 100\n",
    "tinf = 25\n",
    "p = 2*math.pi*r\n",
    "Ab = math.pi*(r**2)\n",
    "As = Ab + l*p\n",
    "k = 240\n",
    "m=math.sqrt((h*p)/(k*Ab))\n",
    "thetab = tb-tinf \n"
   ]
  },
  {
   "cell_type": "markdown",
   "metadata": {},
   "source": [
    "#### Cálculo do Tl"
   ]
  },
  {
   "cell_type": "code",
   "execution_count": 18,
   "metadata": {},
   "outputs": [],
   "source": [
    "def calcula_tl(x):\n",
    "    tl = ((np.cosh(m*(l-x)) + (h/(m*k))*np.sinh(m*(l-x))) / (np.cosh(m*l) + (h/(m*k)*np.sinh(m*l))))*thetab + tinf\n",
    "    return tl"
   ]
  },
  {
   "cell_type": "markdown",
   "metadata": {},
   "source": [
    "#### Gráfico da temperatura por comprimento"
   ]
  },
  {
   "cell_type": "code",
   "execution_count": 19,
   "metadata": {},
   "outputs": [
    {
     "data": {
      "image/png": "[encoded data removed]",
      "text/plain": [
       "<Figure size 432x288 with 1 Axes>"
      ]
     },
     "metadata": {
      "needs_background": "light"
     },
     "output_type": "display_data"
    }
   ],
   "source": [
    "x = np.arange(0,l,1e-3)\n",
    "tl_list = []\n",
    "for i in x:\n",
    "    tl = calcula_tl(i)\n",
    "    tl_list.append(tl)\n",
    "\n",
    "plt.title(\"Temperatura por comprimento\")\n",
    "plt.plot(x, tl_list)\n",
    "plt.xlabel(\"Comprimento [m]\")\n",
    "plt.ylabel(\"Temperatura [°C]\")\n",
    "plt.grid(True)\n",
    "plt.show()"
   ]
  },
  {
   "cell_type": "markdown",
   "metadata": {},
   "source": [
    "#### Cálculo da taxa, eficiência e efetividade"
   ]
  },
  {
   "cell_type": "code",
   "execution_count": 20,
   "metadata": {},
   "outputs": [],
   "source": [
    "M = thetab*math.sqrt(h*p*k*Ab)\n",
    "def taxa_transferencia(l):\n",
    "    qa = M*( (np.sinh(m*l) + (h/(m*k)*np.cosh(m*l))) / ((np.cosh(m*l) + (h/(m*k)*np.sinh(m*l)))) )\n",
    "    return qa\n",
    "\n",
    "def efetividade(qa):\n",
    "    e = qa / (h*Ab*thetab)\n",
    "    return e \n",
    "\n",
    "def eficiencia(qa):\n",
    "    n = qa /(h*As*thetab)\n",
    "    return n  "
   ]
  },
  {
   "cell_type": "code",
   "execution_count": 21,
   "metadata": {},
   "outputs": [
    {
     "name": "stdout",
     "output_type": "stream",
     "text": [
      "Taxa de transferência de calor: 16.548 W\n"
     ]
    }
   ],
   "source": [
    "taxa = taxa_transferencia(l)\n",
    "print(\"Taxa de transferência de calor: {:.3f} W\".format(taxa))"
   ]
  },
  {
   "cell_type": "code",
   "execution_count": 22,
   "metadata": {},
   "outputs": [
    {
     "name": "stdout",
     "output_type": "stream",
     "text": [
      "Efetividade: 25.670\n"
     ]
    }
   ],
   "source": [
    "efet = efetividade(taxa)\n",
    "print(\"Efetividade: {:.3f}\".format(efet))"
   ]
  },
  {
   "cell_type": "code",
   "execution_count": 23,
   "metadata": {},
   "outputs": [
    {
     "name": "stdout",
     "output_type": "stream",
     "text": [
      "Eficiência: 0.885\n"
     ]
    }
   ],
   "source": [
    "efi = eficiencia(taxa)\n",
    "print(\"Eficiência: {:.3f}\".format(efi))"
   ]
  },
  {
   "cell_type": "markdown",
   "metadata": {},
   "source": [
    "### Aleta infinita"
   ]
  },
  {
   "cell_type": "code",
   "execution_count": 24,
   "metadata": {},
   "outputs": [
    {
     "name": "stdout",
     "output_type": "stream",
     "text": [
      "Taxa de transferência de calor da aleta infinita: 29.6 W\n"
     ]
    }
   ],
   "source": [
    "print(\"Taxa de transferência de calor da aleta infinita: {:.3} W\".format(M))"
   ]
  },
  {
   "cell_type": "code",
   "execution_count": 25,
   "metadata": {},
   "outputs": [
    {
     "name": "stdout",
     "output_type": "stream",
     "text": [
      "0.8900000000000006\n"
     ]
    },
    {
     "data": {
      "image/png": "[encoded data removed]",
      "text/plain": [
       "<Figure size 432x288 with 1 Axes>"
      ]
     },
     "metadata": {
      "needs_background": "light"
     },
     "output_type": "display_data"
    }
   ],
   "source": [
    "m_chute = 0\n",
    "l_chute = 0.16\n",
    "el_chute = []\n",
    "em_chute = []\n",
    "while abs(m_chute-M) > 0.1 :\n",
    "    m_chute = M*( (np.sinh(m*l_chute) + (h/(m*k)*np.cosh(m*l_chute))) / ((np.cosh(m*l_chute) + (h/(m*k)*np.sinh(m*l_chute)))) )\n",
    "    el_chute.append(l_chute)\n",
    "    em_chute.append(m_chute)\n",
    "    l_chute += 0.01\n",
    "print(l_chute) \n",
    "\n",
    "plt.plot(el_chute, em_chute)\n",
    "plt.show()"
   ]
  },
  {
   "cell_type": "code",
   "execution_count": 26,
   "metadata": {},
   "outputs": [
    {
     "data": {
      "text/plain": [
       "29.49080556316696"
      ]
     },
     "execution_count": 26,
     "metadata": {},
     "output_type": "execute_result"
    }
   ],
   "source": [
    "q_novo = taxa_transferencia(0.89)\n",
    "\n",
    "q_novo"
   ]
  },
  {
   "cell_type": "markdown",
   "metadata": {},
   "source": [
    "--- "
   ]
  },
  {
   "cell_type": "code",
   "execution_count": 27,
   "metadata": {},
   "outputs": [],
   "source": [
    "h = 19\n",
    "r = 12e-3 #metros\n",
    "r3 = 3*r\n",
    "l = 168e-3 #metros\n",
    "tb = 100\n",
    "tinf = 25\n",
    "p = 2*math.pi*r3\n",
    "Ab = math.pi*(r3**2)\n",
    "As = Ab + l*p\n",
    "k = 240\n",
    "m=math.sqrt((h*p)/(k*Ab))\n",
    "thetab = tb-tinf "
   ]
  },
  {
   "cell_type": "code",
   "execution_count": 28,
   "metadata": {},
   "outputs": [
    {
     "name": "stdout",
     "output_type": "stream",
     "text": [
      "57.08883328530953\n"
     ]
    }
   ],
   "source": [
    "M = thetab*math.sqrt(h*p*k*Ab)\n",
    "def taxa_transferencia3(l):\n",
    "    qa = M*( (np.sinh(m*l) + (h/(m*k)*np.cosh(m*l))) / ((np.cosh(m*l) + (h/(m*k)*np.sinh(m*l)))) )\n",
    "    return qa\n",
    "tripla = taxa_transferencia3(l)\n",
    "print(tripla)"
   ]
  },
  {
   "cell_type": "markdown",
   "metadata": {},
   "source": [
    "---"
   ]
  },
  {
   "cell_type": "code",
   "execution_count": 29,
   "metadata": {},
   "outputs": [],
   "source": [
    "h = 19\n",
    "r = 12e-3 #metros\n",
    "r3 = 3*r\n",
    "l = 168e-3 #metros\n",
    "tb = 100\n",
    "tinf = 25\n",
    "p = 2*math.pi*r3\n",
    "Ab = math.pi*(r3**2)\n",
    "As = Ab + l*p\n",
    "k_al = 240\n",
    "k_cu = 400\n",
    "m=math.sqrt((h*p)/(k*Ab))\n",
    "thetab = tb-tinf "
   ]
  },
  {
   "cell_type": "code",
   "execution_count": 30,
   "metadata": {},
   "outputs": [
    {
     "name": "stdout",
     "output_type": "stream",
     "text": [
      "57.08883328530953\n",
      "55.075250690474256\n"
     ]
    }
   ],
   "source": [
    "M = thetab*math.sqrt(h*p*k*Ab)\n",
    "def taxa_transferencia_new(l, k):\n",
    "    qa = M*( (np.sinh(m*l) + (h/(m*k)*np.cosh(m*l))) / ((np.cosh(m*l) + (h/(m*k)*np.sinh(m*l)))) )\n",
    "    return qa\n",
    "tripla = taxa_transferencia_new(l, k_al)\n",
    "quadra = taxa_transferencia_new(l, k_cu)\n",
    "print(tripla)\n",
    "print(quadra)"
   ]
  }
 ],
 "metadata": {
  "interpreter": {
   "hash": "5b923e8702b54481da16d37441ccf0ecf25f1b925191889641c0b10de85c2852"
  },
  "kernelspec": {
   "display_name": "Python 3.7.11 ('base')",
   "name": "python3"
  },
  "language_info": {
   "codemirror_mode": {
    "name": "ipython",
    "version": 3
   },
   "file_extension": ".py",
   "mimetype": "text/x-python",
   "name": "python",
   "nbconvert_exporter": "python",
   "pygments_lexer": "ipython3",
   "version": "3.9.6"
  },
  "orig_nbformat": 4
 },
 "nbformat": 4,
 "nbformat_minor": 2
}
