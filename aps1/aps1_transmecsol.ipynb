{
 "cells": [
  {
   "cell_type": "code",
   "execution_count": 410,
   "metadata": {},
   "outputs": [],
   "source": [
    "import math\n",
    "import matplotlib.pyplot as plt\n",
    "import numpy as np"
   ]
  },
  {
   "cell_type": "markdown",
   "metadata": {},
   "source": [
    "#### Declaração de variáveis"
   ]
  },
  {
   "cell_type": "code",
   "execution_count": 411,
   "metadata": {},
   "outputs": [],
   "source": [
    "h = 19    # W/(m²K)\n",
    "r = 12e-3 # metros\n",
    "l = 168e-3 # metros\n",
    "tb = 100+273  #K\n",
    "tinf = 25+273  #K\n",
    "p = 2*math.pi*r  \n",
    "Ab = math.pi*(r**2)\n",
    "As = Ab + l*p\n",
    "k = 240\n",
    "m=math.sqrt((h*p)/(k*Ab))\n",
    "thetab = tb-tinf \n"
   ]
  },
  {
   "cell_type": "markdown",
   "metadata": {},
   "source": [
    "#### Cálculo do Tl"
   ]
  },
  {
   "cell_type": "code",
   "execution_count": 412,
   "metadata": {},
   "outputs": [],
   "source": [
    "def calcula_tl(x):\n",
    "    tl = ((np.cosh(m*(l-x)) + (h/(m*k))*np.sinh(m*(l-x))) / (np.cosh(m*l) + (h/(m*k)*np.sinh(m*l))))*thetab + tinf\n",
    "    return tl"
   ]
  },
  {
   "cell_type": "markdown",
   "metadata": {},
   "source": [
    "#### Gráfico da temperatura por comprimento"
   ]
  },
  {
   "cell_type": "code",
   "execution_count": 413,
   "metadata": {},
   "outputs": [
    {
     "data": {
      "image/png": "[encoded data removed]",
      "text/plain": [
       "<Figure size 432x288 with 1 Axes>"
      ]
     },
     "metadata": {
      "needs_background": "light"
     },
     "output_type": "display_data"
    }
   ],
   "source": [
    "x = np.arange(0,l,1e-3)\n",
    "tl_list = []\n",
    "for i in x:\n",
    "    tl = calcula_tl(i)\n",
    "    tl_list.append(tl)\n",
    "\n",
    "plt.title(\"Temperatura por comprimento\")\n",
    "plt.plot(x, tl_list)\n",
    "plt.xlabel(\"Comprimento [m]\")\n",
    "plt.ylabel(\"Temperatura [K]\")\n",
    "plt.grid(True)\n",
    "plt.show()"
   ]
  },
  {
   "cell_type": "code",
   "execution_count": 414,
   "metadata": {},
   "outputs": [
    {
     "name": "stdout",
     "output_type": "stream",
     "text": [
      "360.18450844456106\n",
      "87.18450844456106\n"
     ]
    }
   ],
   "source": [
    "print(tl_list[-1])\n",
    "print(tl_list[-1]-273)"
   ]
  },
  {
   "cell_type": "markdown",
   "metadata": {},
   "source": [
    "#### Cálculo da taxa, eficiência e efetividade"
   ]
  },
  {
   "cell_type": "code",
   "execution_count": 415,
   "metadata": {},
   "outputs": [],
   "source": [
    "M = thetab*math.sqrt(h*p*k*Ab)\n",
    "def taxa_transferencia(l):\n",
    "    qa = M*( (np.sinh(m*l) + (h/(m*k)*np.cosh(m*l))) / ((np.cosh(m*l) + (h/(m*k)*np.sinh(m*l)))) )\n",
    "    return qa\n",
    "\n",
    "def efetividade(qa):\n",
    "    e = qa / (h*Ab*thetab)\n",
    "    return e \n",
    "\n",
    "def eficiencia(qa):\n",
    "    n = qa /(h*As*thetab)\n",
    "    return n  "
   ]
  },
  {
   "cell_type": "code",
   "execution_count": 416,
   "metadata": {},
   "outputs": [
    {
     "name": "stdout",
     "output_type": "stream",
     "text": [
      "Taxa de transferência de calor: 16.548 W\n"
     ]
    }
   ],
   "source": [
    "taxa = taxa_transferencia(l)\n",
    "print(\"Taxa de transferência de calor: {:.3f} W\".format(taxa))"
   ]
  },
  {
   "cell_type": "code",
   "execution_count": 417,
   "metadata": {},
   "outputs": [
    {
     "name": "stdout",
     "output_type": "stream",
     "text": [
      "Efetividade: 25.670\n"
     ]
    }
   ],
   "source": [
    "efet = efetividade(taxa)\n",
    "print(\"Efetividade: {:.3f}\".format(efet))"
   ]
  },
  {
   "cell_type": "code",
   "execution_count": 418,
   "metadata": {},
   "outputs": [
    {
     "name": "stdout",
     "output_type": "stream",
     "text": [
      "Eficiência: 0.885\n"
     ]
    }
   ],
   "source": [
    "efi = eficiencia(taxa)\n",
    "print(\"Eficiência: {:.3f}\".format(efi))"
   ]
  },
  {
   "cell_type": "markdown",
   "metadata": {},
   "source": [
    "### Aleta infinita"
   ]
  },
  {
   "cell_type": "code",
   "execution_count": 419,
   "metadata": {},
   "outputs": [
    {
     "name": "stdout",
     "output_type": "stream",
     "text": [
      "Taxa de transferência de calor da aleta infinita: 29.6 W\n"
     ]
    }
   ],
   "source": [
    "print(\"Taxa de transferência de calor da aleta infinita: {:.3} W\".format(M))"
   ]
  },
  {
   "cell_type": "code",
   "execution_count": 420,
   "metadata": {},
   "outputs": [
    {
     "name": "stdout",
     "output_type": "stream",
     "text": [
      "1.2000000000000008\n"
     ]
    },
    {
     "data": {
      "image/png": "[encoded data removed]",
      "text/plain": [
       "<Figure size 432x288 with 1 Axes>"
      ]
     },
     "metadata": {
      "needs_background": "light"
     },
     "output_type": "display_data"
    }
   ],
   "source": [
    "m_chute = 0\n",
    "l_chute = 0.16\n",
    "el_chute = []\n",
    "em_chute = []\n",
    "while abs(m_chute-M) > 0.01 :\n",
    "    m_chute = M*( (np.sinh(m*l_chute) + (h/(m*k)*np.cosh(m*l_chute))) / ((np.cosh(m*l_chute) + (h/(m*k)*np.sinh(m*l_chute)))) )\n",
    "    el_chute.append(l_chute)\n",
    "    em_chute.append(m_chute)\n",
    "    l_chute += 0.01\n",
    "print(l_chute) \n",
    "\n",
    "plt.plot(el_chute, em_chute)\n",
    "plt.show()"
   ]
  },
  {
   "cell_type": "code",
   "execution_count": 421,
   "metadata": {},
   "outputs": [
    {
     "data": {
      "text/plain": [
       "29.569524845416428"
      ]
     },
     "execution_count": 421,
     "metadata": {},
     "output_type": "execute_result"
    }
   ],
   "source": [
    "q_novo = taxa_transferencia(1.2)\n",
    "\n",
    "q_novo"
   ]
  },
  {
   "cell_type": "markdown",
   "metadata": {},
   "source": [
    "--- "
   ]
  },
  {
   "cell_type": "code",
   "execution_count": 422,
   "metadata": {},
   "outputs": [],
   "source": [
    "h = 19\n",
    "r = 12e-3 #metros\n",
    "r3 = 3*r\n",
    "l = 168e-3 #metros\n",
    "tb = 100+273\n",
    "tinf = 25+273\n",
    "p = 2*math.pi*r3\n",
    "Ab = math.pi*(r3**2)\n",
    "As = Ab + l*p\n",
    "k = 240\n",
    "m=math.sqrt((h*p)/(k*Ab))\n",
    "thetab = tb-tinf "
   ]
  },
  {
   "cell_type": "code",
   "execution_count": 423,
   "metadata": {},
   "outputs": [
    {
     "name": "stdout",
     "output_type": "stream",
     "text": [
      "57.08883328530953\n"
     ]
    }
   ],
   "source": [
    "M = thetab*math.sqrt(h*p*k*Ab)\n",
    "def taxa_transferencia3(l):\n",
    "    qa = M*( (np.sinh(m*l) + (h/(m*k)*np.cosh(m*l))) / ((np.cosh(m*l) + (h/(m*k)*np.sinh(m*l)))) )\n",
    "    return qa\n",
    "tripla = taxa_transferencia3(l)\n",
    "print(tripla)"
   ]
  },
  {
   "cell_type": "code",
   "execution_count": 424,
   "metadata": {},
   "outputs": [
    {
     "data": {
      "text/plain": [
       "3.4498746333825308"
      ]
     },
     "execution_count": 424,
     "metadata": {},
     "output_type": "execute_result"
    }
   ],
   "source": [
    "tripla/taxa"
   ]
  },
  {
   "cell_type": "markdown",
   "metadata": {},
   "source": [
    "---"
   ]
  },
  {
   "cell_type": "code",
   "execution_count": 425,
   "metadata": {},
   "outputs": [],
   "source": [
    "h = 19\n",
    "r = 12e-3 #metros\n",
    "r3 = 3*r\n",
    "l = 168e-3 #metros\n",
    "tb = 100\n",
    "tinf = 25\n",
    "p = 2*math.pi*r3\n",
    "Ab = math.pi*(r3**2)\n",
    "As = Ab + l*p\n",
    "k_al = 240\n",
    "k_cu = 400\n",
    "m_al=math.sqrt((h*p)/(k_al*Ab))\n",
    "m_cu=math.sqrt((h*p)/(k_cu*Ab))\n",
    "thetab = tb-tinf "
   ]
  },
  {
   "cell_type": "code",
   "execution_count": 426,
   "metadata": {},
   "outputs": [
    {
     "name": "stdout",
     "output_type": "stream",
     "text": [
      "57.08883328530953\n",
      "58.19419475147796\n"
     ]
    }
   ],
   "source": [
    "M_al = thetab*math.sqrt(h*p*k_al*Ab)\n",
    "M_cu = thetab*math.sqrt(h*p*k_cu*Ab)\n",
    "def taxa_transferencia_new(l, k, m, M):\n",
    "    qa = M*( (np.sinh(m*l) + (h/(m*k)*np.cosh(m*l))) / ((np.cosh(m*l) + (h/(m*k)*np.sinh(m*l)))) )\n",
    "    return qa\n",
    "al = taxa_transferencia_new(l, k_al, m_al, M_al)\n",
    "cu = taxa_transferencia_new(l, k_cu, m_cu, M_cu)\n",
    "print(al)\n",
    "print(cu)"
   ]
  },
  {
   "cell_type": "code",
   "execution_count": 427,
   "metadata": {},
   "outputs": [
    {
     "data": {
      "text/plain": [
       "1.0193621309555272"
      ]
     },
     "execution_count": 427,
     "metadata": {},
     "output_type": "execute_result"
    }
   ],
   "source": [
    "cu/al"
   ]
  },
  {
   "cell_type": "code",
   "execution_count": null,
   "metadata": {},
   "outputs": [],
   "source": []
  }
 ],
 "metadata": {
  "interpreter": {
   "hash": "5b923e8702b54481da16d37441ccf0ecf25f1b925191889641c0b10de85c2852"
  },
  "kernelspec": {
   "display_name": "Python 3.7.11 ('base')",
   "name": "python3"
  },
  "language_info": {
   "codemirror_mode": {
    "name": "ipython",
    "version": 3
   },
   "file_extension": ".py",
   "mimetype": "text/x-python",
   "name": "python",
   "nbconvert_exporter": "python",
   "pygments_lexer": "ipython3",
   "version": "3.9.6"
  },
  "orig_nbformat": 4
 },
 "nbformat": 4,
 "nbformat_minor": 2
}
