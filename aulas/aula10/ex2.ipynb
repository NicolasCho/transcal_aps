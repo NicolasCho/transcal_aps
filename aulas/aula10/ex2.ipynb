{
 "cells": [
  {
   "cell_type": "code",
   "execution_count": 56,
   "metadata": {},
   "outputs": [],
   "source": [
    "import numpy as np\n",
    "import math \n",
    "import matplotlib.pyplot as plt\n",
    "from mpl_toolkits.axes_grid1 import make_axes_locatable"
   ]
  },
  {
   "cell_type": "code",
   "execution_count": 57,
   "metadata": {},
   "outputs": [],
   "source": [
    "malha = np.zeros((10,10))\n",
    "k = 230\n",
    "densidade = 2700\n",
    "c_esp = 897\n",
    "alfa = k/(c_esp*densidade)\n",
    "deltax = 0.4/9\n",
    "deltat = deltax**2/(4*alfa)\n",
    "alfa_delta = alfa*deltat/(deltax**2)"
   ]
  },
  {
   "cell_type": "code",
   "execution_count": 58,
   "metadata": {},
   "outputs": [
    {
     "name": "stdout",
     "output_type": "stream",
     "text": [
      "[[150. 150. 150. 150. 150. 150. 150. 150. 150.   0.]\n",
      " [  0.   0.   0.   0.   0.   0.   0.   0.   0.  50.]\n",
      " [  0.   0.   0.   0.   0.   0.   0.   0.   0.  50.]\n",
      " [  0.   0.   0.   0.   0.   0.   0.   0.   0.  50.]\n",
      " [  0.   0.   0.   0.   0.   0.   0.   0.   0.  50.]\n",
      " [  0.   0.   0.   0.   0.   0.   0.   0.   0.  50.]\n",
      " [  0.   0.   0.   0.   0.   0.   0.   0.   0.  50.]\n",
      " [  0.   0.   0.   0.   0.   0.   0.   0.   0.  50.]\n",
      " [  0.   0.   0.   0.   0.   0.   0.   0.   0.  50.]\n",
      " [  0.   0.   0.   0.   0.   0.   0.   0.   0.   0.]]\n"
     ]
    }
   ],
   "source": [
    "malha[0] = [150, 150, 150, 150, 150, 150, 150, 150, 150, 0]\n",
    "malha[:,-1] = [0, 50, 50, 50, 50, 50, 50, 50, 50, 0]\n",
    "print(malha)"
   ]
  },
  {
   "cell_type": "code",
   "execution_count": 59,
   "metadata": {},
   "outputs": [
    {
     "data": {
      "text/plain": [
       "array([[150., 150., 150., 150., 150., 150., 150., 150., 150.,   0.],\n",
       "       [  0.,   0.,   0.,   0.,   0.,   0.,   0.,   0.,   0.,  50.],\n",
       "       [  0.,   0.,   0.,   0.,   0.,   0.,   0.,   0.,   0.,  50.],\n",
       "       [  0.,   0.,   0.,   0.,   0.,   0.,   0.,   0.,   0.,  50.],\n",
       "       [  0.,   0.,   0.,   0.,   0.,   0.,   0.,   0.,   0.,  50.],\n",
       "       [  0.,   0.,   0.,   0.,   0.,   0.,   0.,   0.,   0.,  50.],\n",
       "       [  0.,   0.,   0.,   0.,   0.,   0.,   0.,   0.,   0.,  50.],\n",
       "       [  0.,   0.,   0.,   0.,   0.,   0.,   0.,   0.,   0.,  50.],\n",
       "       [  0.,   0.,   0.,   0.,   0.,   0.,   0.,   0.,   0.,  50.],\n",
       "       [  0.,   0.,   0.,   0.,   0.,   0.,   0.,   0.,   0.,   0.]])"
      ]
     },
     "execution_count": 59,
     "metadata": {},
     "output_type": "execute_result"
    }
   ],
   "source": [
    "nova_malha = np.zeros((10,10))\n",
    "nova_malha[0] = [150, 150, 150, 150, 150, 150, 150, 150, 150, 0]\n",
    "nova_malha[:,-1] = [0, 50, 50, 50, 50, 50, 50, 50, 50, 0]\n",
    "nova_malha"
   ]
  },
  {
   "cell_type": "code",
   "execution_count": 60,
   "metadata": {},
   "outputs": [
    {
     "name": "stdout",
     "output_type": "stream",
     "text": [
      "[[1.50000000e+02 1.50000000e+02 1.50000000e+02 1.50000000e+02\n",
      "  1.50000000e+02 1.50000000e+02 1.50000000e+02 1.50000000e+02\n",
      "  1.50000000e+02 0.00000000e+00]\n",
      " [4.68750000e+01 5.85937500e+01 6.15234375e+01 6.22558594e+01\n",
      "  6.24389648e+01 6.24847412e+01 6.24961853e+01 6.56240463e+01\n",
      "  6.95310116e+01 5.00000000e+01]\n",
      " [1.17187500e+01 1.75781250e+01 1.97753906e+01 2.05078125e+01\n",
      "  2.07366943e+01 2.08053589e+01 2.08253860e+01 2.47373581e+01\n",
      "  3.91920924e+01 5.00000000e+01]\n",
      " [2.92968750e+00 5.12695312e+00 6.22558594e+00 6.68334961e+00\n",
      "  6.85501099e+00 6.91509247e+00 6.93511963e+00 1.10431194e+01\n",
      "  2.81838030e+01 5.00000000e+01]\n",
      " [7.32421875e-01 1.46484375e+00 1.92260742e+00 2.15148926e+00\n",
      "  2.25162506e+00 2.29167938e+00 2.30669975e+00 6.46245480e+00\n",
      "  2.42865644e+01 5.00000000e+01]\n",
      " [1.83105469e-01 4.11987305e-01 5.83648682e-01 6.83784485e-01\n",
      "  7.33852386e-01 7.56382942e-01 7.65770674e-01 4.93205637e+00\n",
      "  2.29296552e+01 5.00000000e+01]\n",
      " [4.57763672e-02 1.14440918e-01 1.74522400e-01 2.14576721e-01\n",
      "  2.37107277e-01 2.48372555e-01 2.53535807e-01 4.42139804e+00\n",
      "  2.24627633e+01 5.00000000e+01]\n",
      " [1.14440918e-02 3.14712524e-02 5.14984131e-02 6.65187836e-02\n",
      "  7.59065151e-02 8.10697675e-02 8.36513937e-02 4.25126236e+00\n",
      "  2.23035064e+01 5.00000000e+01]\n",
      " [2.86102295e-03 8.58306885e-03 1.50203705e-02 2.03847885e-02\n",
      "  2.40728259e-02 2.62856483e-02 2.74842605e-02 4.19468665e+00\n",
      "  1.91245483e+01 5.00000000e+01]\n",
      " [0.00000000e+00 0.00000000e+00 0.00000000e+00 0.00000000e+00\n",
      "  0.00000000e+00 0.00000000e+00 0.00000000e+00 0.00000000e+00\n",
      "  0.00000000e+00 0.00000000e+00]]\n"
     ]
    }
   ],
   "source": [
    "l= 1\n",
    "c = 0\n",
    "ts = np.arange(0,10, deltat)\n",
    "\n",
    "for t in ts:\n",
    "    l = 1\n",
    "    while(l<9):\n",
    "        while(c<9):\n",
    "            if c == 0:\n",
    "                nova_malha[l][c] = malha[l][c] + alfa_delta*(2*malha[l+1][c]+malha[l-1][c]+malha[l][c+1]-4*malha[l][c])\n",
    "            else:\n",
    "                nova_malha[l][c] = malha[l][c] + alfa_delta*(malha[l+1][c]+malha[l-1][c]+malha[l][c+1]+malha[l][c-1]-4*malha[l][c])\n",
    "            c+=1\n",
    "        c = 0\n",
    "        l += 1\n",
    "    malha = nova_malha\n",
    "\n",
    "print(malha)"
   ]
  },
  {
   "cell_type": "code",
   "execution_count": 61,
   "metadata": {},
   "outputs": [
    {
     "data": {
      "text/plain": [
       "<matplotlib.colorbar.Colorbar at 0x22bd5d50808>"
      ]
     },
     "execution_count": 61,
     "metadata": {},
     "output_type": "execute_result"
    },
    {
     "data": {
      "image/png": "[encoded data removed]",
      "text/plain": [
       "<Figure size 432x288 with 2 Axes>"
      ]
     },
     "metadata": {
      "needs_background": "light"
     },
     "output_type": "display_data"
    }
   ],
   "source": [
    "ax = plt.subplot(111)\n",
    "im = ax.imshow(malha)\n",
    "divider = make_axes_locatable(ax)\n",
    "cax = divider.append_axes(\"right\", size=\"5%\", pad=0.05)\n",
    "plt.colorbar(im,cax = cax)\n"
   ]
  },
  {
   "cell_type": "code",
   "execution_count": 62,
   "metadata": {},
   "outputs": [
    {
     "data": {
      "text/plain": [
       "array([1.50000000e+02, 4.68750000e+01, 1.17187500e+01, 2.92968750e+00,\n",
       "       7.32421875e-01, 1.83105469e-01, 4.57763672e-02, 1.14440918e-02,\n",
       "       2.86102295e-03, 0.00000000e+00])"
      ]
     },
     "execution_count": 62,
     "metadata": {},
     "output_type": "execute_result"
    }
   ],
   "source": [
    "malha[:,0]"
   ]
  }
 ],
 "metadata": {
  "interpreter": {
   "hash": "5b923e8702b54481da16d37441ccf0ecf25f1b925191889641c0b10de85c2852"
  },
  "kernelspec": {
   "display_name": "Python 3.7.11 ('base')",
   "name": "python3"
  },
  "language_info": {
   "codemirror_mode": {
    "name": "ipython",
    "version": 3
   },
   "file_extension": ".py",
   "mimetype": "text/x-python",
   "name": "python",
   "nbconvert_exporter": "python",
   "pygments_lexer": "ipython3",
   "version": "3.7.11"
  },
  "orig_nbformat": 4
 },
 "nbformat": 4,
 "nbformat_minor": 2
}
