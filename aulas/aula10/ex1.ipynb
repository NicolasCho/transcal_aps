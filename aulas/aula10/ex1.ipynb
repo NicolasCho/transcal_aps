{
 "cells": [
  {
   "cell_type": "code",
   "execution_count": 100,
   "metadata": {},
   "outputs": [],
   "source": [
    "import numpy as np\n",
    "import math \n",
    "import matplotlib.pyplot as plt\n",
    "from mpl_toolkits.axes_grid1 import make_axes_locatable"
   ]
  },
  {
   "cell_type": "code",
   "execution_count": 101,
   "metadata": {},
   "outputs": [],
   "source": [
    "malha = np.zeros((5,5))\n",
    "k = 230\n",
    "densidade = 2700\n",
    "c_esp = 897\n",
    "alfa = k/(c_esp*densidade)\n",
    "deltat = 1e-3\n",
    "deltax = 0.1\n",
    "alfa_delta = alfa*deltat/(deltax**2)"
   ]
  },
  {
   "cell_type": "code",
   "execution_count": 102,
   "metadata": {},
   "outputs": [
    {
     "name": "stdout",
     "output_type": "stream",
     "text": [
      "[[150. 150. 150. 150.   0.]\n",
      " [  0.   0.   0.   0.  50.]\n",
      " [  0.   0.   0.   0.  50.]\n",
      " [  0.   0.   0.   0.  50.]\n",
      " [  0.   0.   0.   0.   0.]]\n"
     ]
    }
   ],
   "source": [
    "malha[0] = [150, 150, 150, 150, 0]\n",
    "malha[:,-1] = [0, 50, 50, 50, 0]\n",
    "print(malha)"
   ]
  },
  {
   "cell_type": "code",
   "execution_count": 103,
   "metadata": {},
   "outputs": [
    {
     "data": {
      "text/plain": [
       "array([[150., 150., 150., 150.,   0.],\n",
       "       [  0.,   0.,   0.,   0.,  50.],\n",
       "       [  0.,   0.,   0.,   0.,  50.],\n",
       "       [  0.,   0.,   0.,   0.,  50.],\n",
       "       [  0.,   0.,   0.,   0.,   0.]])"
      ]
     },
     "execution_count": 103,
     "metadata": {},
     "output_type": "execute_result"
    }
   ],
   "source": [
    "nova_malha = np.zeros((5,5))\n",
    "nova_malha[0] = [150, 150, 150, 150, 0]\n",
    "nova_malha[:,-1] = [0, 50, 50, 50, 0]\n",
    "nova_malha"
   ]
  },
  {
   "cell_type": "code",
   "execution_count": 104,
   "metadata": {},
   "outputs": [
    {
     "name": "stdout",
     "output_type": "stream",
     "text": [
      "[[1.50000000e+02 1.50000000e+02 1.50000000e+02 1.50000000e+02\n",
      "  0.00000000e+00]\n",
      " [1.24471337e+01 1.29815651e+01 1.31629318e+01 1.65733079e+01\n",
      "  5.00000000e+01]\n",
      " [5.63675640e-01 6.02481680e-01 7.94629280e-01 4.88234271e+00\n",
      "  5.00000000e+01]\n",
      " [1.75347500e-02 2.43532500e-02 2.06097380e-01 4.16062477e+00\n",
      "  5.00000000e+01]\n",
      " [0.00000000e+00 0.00000000e+00 0.00000000e+00 0.00000000e+00\n",
      "  0.00000000e+00]]\n"
     ]
    }
   ],
   "source": [
    "l= 1\n",
    "c = 0\n",
    "ts = np.arange(0,10, 1e-3)\n",
    "\n",
    "for t in ts:\n",
    "    l = 1\n",
    "    while(l<4):\n",
    "        while(c<4):\n",
    "            if c == 0:\n",
    "                nova_malha[l][c] = round(malha[l][c] + alfa_delta*(2*malha[l+1][c]+malha[l-1][c]+malha[l][c+1]-4*malha[l][c]),8)\n",
    "            else:\n",
    "                nova_malha[l][c] = round(malha[l][c] + alfa_delta*(malha[l+1][c]+malha[l-1][c]+malha[l][c+1]+malha[l][c-1]-4*malha[l][c]),8)\n",
    "            c+=1\n",
    "        c = 0\n",
    "        l += 1\n",
    "    malha = nova_malha\n",
    "\n",
    "print(malha)"
   ]
  },
  {
   "cell_type": "code",
   "execution_count": 105,
   "metadata": {},
   "outputs": [
    {
     "data": {
      "text/plain": [
       "<matplotlib.colorbar.Colorbar at 0x1a440b31308>"
      ]
     },
     "execution_count": 105,
     "metadata": {},
     "output_type": "execute_result"
    },
    {
     "data": {
      "image/png": "[encoded data removed]",
      "text/plain": [
       "<Figure size 432x288 with 2 Axes>"
      ]
     },
     "metadata": {
      "needs_background": "light"
     },
     "output_type": "display_data"
    }
   ],
   "source": [
    "ax = plt.subplot(111)\n",
    "im = ax.imshow(malha)\n",
    "divider = make_axes_locatable(ax)\n",
    "cax = divider.append_axes(\"right\", size=\"5%\", pad=0.05)\n",
    "plt.colorbar(im,cax = cax)\n"
   ]
  },
  {
   "cell_type": "code",
   "execution_count": null,
   "metadata": {},
   "outputs": [],
   "source": []
  }
 ],
 "metadata": {
  "interpreter": {
   "hash": "5b923e8702b54481da16d37441ccf0ecf25f1b925191889641c0b10de85c2852"
  },
  "kernelspec": {
   "display_name": "Python 3.7.11 ('base')",
   "name": "python3"
  },
  "language_info": {
   "codemirror_mode": {
    "name": "ipython",
    "version": 3
   },
   "file_extension": ".py",
   "mimetype": "text/x-python",
   "name": "python",
   "nbconvert_exporter": "python",
   "pygments_lexer": "ipython3",
   "version": "3.7.11"
  },
  "orig_nbformat": 4
 },
 "nbformat": 4,
 "nbformat_minor": 2
}
