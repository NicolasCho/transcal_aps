{
 "cells": [
  {
   "cell_type": "code",
   "execution_count": 94,
   "metadata": {},
   "outputs": [],
   "source": [
    "import math\n",
    "import numpy as np\n",
    "import matplotlib.pyplot as plt"
   ]
  },
  {
   "cell_type": "code",
   "execution_count": 95,
   "metadata": {},
   "outputs": [],
   "source": [
    "comp = 0.5\n",
    "Tint = 20\n",
    "Text = 0\n",
    "alfa_delta = 0.2"
   ]
  },
  {
   "cell_type": "code",
   "execution_count": 96,
   "metadata": {},
   "outputs": [
    {
     "data": {
      "text/plain": [
       "[0, 20, 20, 20, 20, 20, 20, 20, 20, 20, 0]"
      ]
     },
     "execution_count": 96,
     "metadata": {},
     "output_type": "execute_result"
    }
   ],
   "source": [
    "malha = []\n",
    "nova_malha = [0,0,0,0,0,0,0,0,0,0,0]\n",
    "for i in range(11):\n",
    "    if i==0 or i == 10:\n",
    "        malha.append(Text)\n",
    "    else:\n",
    "        malha.append(Tint)\n",
    "\n",
    "j = 0\n",
    "while j<len(malha)-1:\n",
    "    nova_malha[j] = malha[j]\n",
    "    j+=1\n",
    "malha"
   ]
  },
  {
   "cell_type": "code",
   "execution_count": 97,
   "metadata": {},
   "outputs": [
    {
     "name": "stdout",
     "output_type": "stream",
     "text": [
      "[0, 16.0, 20.0, 20.0, 20.0, 20.0, 20.0, 20.0, 20.0, 16.0, 0]\n",
      "[0, 13.6, 19.2, 20.0, 20.0, 20.0, 20.0, 20.0, 19.2, 13.6, 0]\n",
      "[0, 12.0, 18.2, 19.8, 20.0, 20.0, 20.0, 19.8, 18.2, 12.0, 0]\n",
      "[0, 10.8, 17.3, 19.5, 20.0, 20.0, 20.0, 19.5, 17.3, 10.8, 0]\n",
      "[0, 9.9, 16.4, 19.2, 19.9, 20.0, 19.9, 19.2, 16.4, 9.9, 0]\n",
      "[0, 9.2, 15.7, 18.8, 19.8, 20.0, 19.8, 18.8, 15.7, 9.2, 0]\n",
      "[0, 8.7, 15.0, 18.4, 19.6, 19.9, 19.6, 18.4, 15.0, 8.7, 0]\n",
      "[0, 8.2, 14.4, 18.0, 19.4, 19.8, 19.4, 18.0, 14.4, 8.2, 0]\n",
      "[0, 7.8, 13.9, 17.6, 19.2, 19.6, 19.2, 17.6, 13.9, 7.8, 0]\n",
      "[0, 7.5, 13.4, 17.2, 19.0, 19.4, 19.0, 17.2, 13.4, 7.5, 0]\n",
      "[0, 7.2, 13.0, 16.8, 18.7, 19.2, 18.7, 16.8, 13.0, 7.2, 0]\n",
      "[0, 6.9, 12.6, 16.4, 18.4, 19.0, 18.4, 16.4, 12.6, 6.9, 0]\n",
      "[0, 6.7, 12.2, 16.0, 18.1, 18.8, 18.1, 16.0, 12.2, 6.7, 0]\n",
      "[0, 6.5, 11.9, 15.7, 17.8, 18.5, 17.8, 15.7, 11.9, 6.5, 0]\n",
      "[0, 6.3, 11.6, 15.4, 17.5, 18.2, 17.5, 15.4, 11.6, 6.3, 0]\n",
      "[0, 6.1, 11.3, 15.1, 17.2, 17.9, 17.2, 15.1, 11.3, 6.1, 0]\n",
      "[0, 5.9, 11.0, 14.8, 16.9, 17.6, 16.9, 14.8, 11.0, 5.9, 0]\n",
      "[0, 5.7, 10.7, 14.5, 16.6, 17.3, 16.6, 14.5, 10.7, 5.7, 0]\n",
      "[0, 5.6, 10.5, 14.2, 16.3, 17.0, 16.3, 14.2, 10.5, 5.6, 0]\n",
      "[0, 5.5, 10.3, 13.9, 16.0, 16.7, 16.0, 13.9, 10.3, 5.5, 0]\n",
      "[0, 5.4, 10.1, 13.6, 15.7, 16.4, 15.7, 13.6, 10.1, 5.4, 0]\n",
      "[0, 5.3, 9.9, 13.3, 15.4, 16.1, 15.4, 13.3, 9.9, 5.3, 0]\n",
      "[0, 5.2, 9.7, 13.0, 15.1, 15.8, 15.1, 13.0, 9.7, 5.2, 0]\n",
      "[0, 5.1, 9.5, 12.8, 14.8, 15.5, 14.8, 12.8, 9.5, 5.1, 0]\n",
      "[0, 5.0, 9.3, 12.5, 14.5, 15.2, 14.5, 12.5, 9.3, 5.0, 0]\n",
      "[0, 4.9, 9.1, 12.3, 14.2, 14.9, 14.2, 12.3, 9.1, 4.9, 0]\n",
      "[0, 4.8, 8.9, 12.0, 14.0, 14.6, 14.0, 12.0, 8.9, 4.8, 0]\n",
      "[0, 4.7, 8.7, 11.8, 13.7, 14.4, 13.7, 11.8, 8.7, 4.7, 0]\n",
      "[0, 4.6, 8.5, 11.6, 13.5, 14.1, 13.5, 11.6, 8.5, 4.6, 0]\n",
      "[0, 4.5, 8.3, 11.4, 13.2, 13.9, 13.2, 11.4, 8.3, 4.5, 0]\n",
      "[0, 4.4, 8.2, 11.1, 13.0, 13.6, 13.0, 11.1, 8.2, 4.4, 0]\n",
      "[0, 4.3, 8.0, 10.9, 12.7, 13.4, 12.7, 10.9, 8.0, 4.3, 0]\n",
      "[0, 4.2, 7.8, 10.7, 12.5, 13.1, 12.5, 10.7, 7.8, 4.2, 0]\n",
      "[0, 4.1, 7.7, 10.5, 12.3, 12.9, 12.3, 10.5, 7.7, 4.1, 0]\n",
      "[0, 4.0, 7.5, 10.3, 12.1, 12.7, 12.1, 10.3, 7.5, 4.0, 0]\n",
      "[0, 3.9, 7.4, 10.1, 11.9, 12.5, 11.9, 10.1, 7.4, 3.9, 0]\n",
      "[0, 3.8, 7.2, 9.9, 11.7, 12.3, 11.7, 9.9, 7.2, 3.8, 0]\n",
      "[0, 3.7, 7.1, 9.7, 11.5, 12.1, 11.5, 9.7, 7.1, 3.7, 0]\n",
      "[0, 3.6, 6.9, 9.5, 11.3, 11.9, 11.3, 9.5, 6.9, 3.6, 0]\n",
      "[0, 3.5, 6.8, 9.3, 11.1, 11.7, 11.1, 9.3, 6.8, 3.5, 0]\n",
      "[0, 3.5, 6.6, 9.2, 10.9, 11.5, 10.9, 9.2, 6.6, 3.5, 0]\n",
      "[0, 3.4, 6.5, 9.0, 10.7, 11.3, 10.7, 9.0, 6.5, 3.4, 0]\n",
      "[0, 3.3, 6.4, 8.8, 10.5, 11.1, 10.5, 8.8, 6.4, 3.3, 0]\n",
      "[0, 3.3, 6.3, 8.7, 10.3, 10.9, 10.3, 8.7, 6.3, 3.3, 0]\n",
      "[0, 3.2, 6.2, 8.5, 10.1, 10.7, 10.1, 8.5, 6.2, 3.2, 0]\n",
      "[0, 3.2, 6.1, 8.4, 9.9, 10.5, 9.9, 8.4, 6.1, 3.2, 0]\n",
      "[0, 3.1, 6.0, 8.2, 9.7, 10.3, 9.7, 8.2, 6.0, 3.1, 0]\n",
      "[0, 3.1, 5.9, 8.1, 9.5, 10.1, 9.5, 8.1, 5.9, 3.1, 0]\n",
      "[0, 3.0, 5.8, 7.9, 9.3, 9.9, 9.3, 7.9, 5.8, 3.0, 0]\n",
      "[0, 3.0, 5.7, 7.8, 9.1, 9.7, 9.1, 7.8, 5.7, 3.0, 0]\n",
      "[0, 2.9, 5.6, 7.6, 9.0, 9.5, 9.0, 7.6, 5.6, 2.9, 0]\n",
      "[0, 2.9, 5.5, 7.5, 8.8, 9.3, 8.8, 7.5, 5.5, 2.9, 0]\n",
      "[0, 2.8, 5.4, 7.4, 8.6, 9.1, 8.6, 7.4, 5.4, 2.8, 0]\n",
      "[0, 2.8, 5.3, 7.2, 8.5, 8.9, 8.5, 7.2, 5.3, 2.8, 0]\n",
      "[0, 2.7, 5.2, 7.1, 8.3, 8.7, 8.3, 7.1, 5.2, 2.7, 0]\n",
      "[0, 2.7, 5.1, 7.0, 8.1, 8.5, 8.1, 7.0, 5.1, 2.7, 0]\n",
      "[0, 2.6, 5.0, 6.8, 8.0, 8.3, 8.0, 6.8, 5.0, 2.6, 0]\n",
      "[0, 2.6, 4.9, 6.7, 7.8, 8.2, 7.8, 6.7, 4.9, 2.6, 0]\n",
      "[0, 2.5, 4.8, 6.6, 7.7, 8.0, 7.7, 6.6, 4.8, 2.5, 0]\n",
      "[0, 2.5, 4.7, 6.5, 7.5, 7.9, 7.5, 6.5, 4.7, 2.5, 0]\n",
      "[0, 2.4, 4.6, 6.3, 7.4, 7.7, 7.4, 6.3, 4.6, 2.4, 0]\n",
      "[0, 2.4, 4.5, 6.2, 7.2, 7.6, 7.2, 6.2, 4.5, 2.4, 0]\n",
      "[0, 2.3, 4.4, 6.1, 7.1, 7.4, 7.1, 6.1, 4.4, 2.3, 0]\n",
      "[0, 2.3, 4.3, 6.0, 7.0, 7.3, 7.0, 6.0, 4.3, 2.3, 0]\n",
      "[0, 2.2, 4.2, 5.9, 6.9, 7.2, 6.9, 5.9, 4.2, 2.2, 0]\n",
      "[0, 2.2, 4.1, 5.8, 6.8, 7.1, 6.8, 5.8, 4.1, 2.2, 0]\n",
      "[0, 2.1, 4.1, 5.7, 6.7, 7.0, 6.7, 5.7, 4.1, 2.1, 0]\n",
      "[0, 2.1, 4.0, 5.6, 6.6, 6.9, 6.6, 5.6, 4.0, 2.1, 0]\n",
      "[0, 2.1, 3.9, 5.5, 6.5, 6.8, 6.5, 5.5, 3.9, 2.1, 0]\n",
      "[0, 2.0, 3.9, 5.4, 6.4, 6.7, 6.4, 5.4, 3.9, 2.0, 0]\n",
      "[0, 2.0, 3.8, 5.3, 6.3, 6.6, 6.3, 5.3, 3.8, 2.0, 0]\n",
      "[0, 2.0, 3.7, 5.2, 6.2, 6.5, 6.2, 5.2, 3.7, 2.0, 0]\n",
      "[0, 1.9, 3.7, 5.1, 6.1, 6.4, 6.1, 5.1, 3.7, 1.9, 0]\n",
      "[0, 1.9, 3.6, 5.0, 6.0, 6.3, 6.0, 5.0, 3.6, 1.9, 0]\n",
      "[0, 1.9, 3.5, 4.9, 5.9, 6.2, 5.9, 4.9, 3.5, 1.9, 0]\n",
      "[0, 1.8, 3.5, 4.8, 5.8, 6.1, 5.8, 4.8, 3.5, 1.8, 0]\n",
      "[0, 1.8, 3.4, 4.7, 5.7, 6.0, 5.7, 4.7, 3.4, 1.8, 0]\n",
      "[0, 1.8, 3.3, 4.6, 5.6, 5.9, 5.6, 4.6, 3.3, 1.8, 0]\n",
      "[0, 1.7, 3.3, 4.5, 5.5, 5.8, 5.5, 4.5, 3.3, 1.7, 0]\n",
      "[0, 1.7, 3.2, 4.5, 5.4, 5.7, 5.4, 4.5, 3.2, 1.7, 0]\n",
      "[0, 1.7, 3.2, 4.4, 5.3, 5.6, 5.3, 4.4, 3.2, 1.7, 0]\n",
      "[0, 1.7, 3.1, 4.3, 5.2, 5.5, 5.2, 4.3, 3.1, 1.7, 0]\n",
      "[0, 1.6, 3.1, 4.2, 5.1, 5.4, 5.1, 4.2, 3.1, 1.6, 0]\n",
      "[0, 1.6, 3.0, 4.2, 5.0, 5.3, 5.0, 4.2, 3.0, 1.6, 0]\n",
      "[0, 1.6, 3.0, 4.1, 4.9, 5.2, 4.9, 4.1, 3.0, 1.6, 0]\n",
      "[0, 1.6, 2.9, 4.0, 4.8, 5.1, 4.8, 4.0, 2.9, 1.6, 0]\n",
      "[0, 1.5, 2.9, 3.9, 4.7, 5.0, 4.7, 3.9, 2.9, 1.5, 0]\n",
      "[0, 1.5, 2.8, 3.9, 4.6, 4.9, 4.6, 3.9, 2.8, 1.5, 0]\n",
      "[0, 1.5, 2.8, 3.8, 4.5, 4.8, 4.5, 3.8, 2.8, 1.5, 0]\n",
      "[0, 1.5, 2.7, 3.7, 4.4, 4.7, 4.4, 3.7, 2.7, 1.5, 0]\n",
      "[0, 1.4, 2.7, 3.6, 4.3, 4.6, 4.3, 3.6, 2.7, 1.4, 0]\n",
      "[0, 1.4, 2.6, 3.6, 4.2, 4.5, 4.2, 3.6, 2.6, 1.4, 0]\n",
      "[0, 1.4, 2.6, 3.5, 4.1, 4.4, 4.1, 3.5, 2.6, 1.4, 0]\n",
      "[0, 1.4, 2.5, 3.4, 4.0, 4.3, 4.0, 3.4, 2.5, 1.4, 0]\n",
      "[0, 1.3, 2.5, 3.3, 3.9, 4.2, 3.9, 3.3, 2.5, 1.3, 0]\n",
      "[0, 1.3, 2.4, 3.3, 3.8, 4.1, 3.8, 3.3, 2.4, 1.3, 0]\n",
      "[0, 1.3, 2.4, 3.2, 3.8, 4.0, 3.8, 3.2, 2.4, 1.3, 0]\n",
      "[0, 1.3, 2.3, 3.2, 3.7, 3.9, 3.7, 3.2, 2.3, 1.3, 0]\n",
      "[0, 1.2, 2.3, 3.1, 3.6, 3.8, 3.6, 3.1, 2.3, 1.2, 0]\n"
     ]
    }
   ],
   "source": [
    "t_list = np.arange(5, 500, 5)\n",
    "for t in t_list:\n",
    "    for i in range (len(malha)-1):\n",
    "        if i>0 and i<10:\n",
    "            T = alfa_delta*(malha[i+1]-2*malha[i]+malha[i-1])+malha[i]\n",
    "            nova_malha[i] = round(T, 1)\n",
    "    j = 0\n",
    "    while j<len(nova_malha)-1:\n",
    "        malha[j] = nova_malha[j]\n",
    "        j+=1\n",
    "    print(nova_malha)\n"
   ]
  },
  {
   "cell_type": "code",
   "execution_count": null,
   "metadata": {},
   "outputs": [],
   "source": []
  },
  {
   "cell_type": "code",
   "execution_count": 98,
   "metadata": {},
   "outputs": [
    {
     "data": {
      "text/plain": [
       "[<matplotlib.lines.Line2D at 0x197b037cfc8>]"
      ]
     },
     "execution_count": 98,
     "metadata": {},
     "output_type": "execute_result"
    },
    {
     "data": {
      "image/png": "[encoded data removed]",
      "text/plain": [
       "<Figure size 432x288 with 1 Axes>"
      ]
     },
     "metadata": {
      "needs_background": "light"
     },
     "output_type": "display_data"
    }
   ],
   "source": [
    "x = np.arange(0, 55, 5)\n",
    "plt.plot(x, nova_malha)"
   ]
  },
  {
   "cell_type": "code",
   "execution_count": 99,
   "metadata": {},
   "outputs": [
    {
     "name": "stdout",
     "output_type": "stream",
     "text": [
      "[ 0. 20. 20. 20. 20. 20. 20. 20. 20. 20.  0.]\n"
     ]
    }
   ],
   "source": [
    "malha = np.zeros((100, 11))\n",
    "malha[0] = [0, 20, 20, 20, 20, 20, 20, 20, 20, 20, 0]\n",
    "print(malha[0])"
   ]
  },
  {
   "cell_type": "code",
   "execution_count": null,
   "metadata": {},
   "outputs": [],
   "source": []
  },
  {
   "cell_type": "code",
   "execution_count": null,
   "metadata": {},
   "outputs": [],
   "source": []
  },
  {
   "cell_type": "code",
   "execution_count": 100,
   "metadata": {},
   "outputs": [
    {
     "name": "stdout",
     "output_type": "stream",
     "text": [
      "[0.  1.2 2.3 3.1 3.6 3.8 3.6 3.1 2.3 1.2 0. ]\n"
     ]
    }
   ],
   "source": [
    "l = 0\n",
    "for lin in malha:\n",
    "    if l != 99:\n",
    "        for col in range(len(lin)-1):\n",
    "            if col>0 and col<10:\n",
    "                malha[l+1][col] = round(alfa_delta*(malha[l][col+1]-2*malha[l][col]+malha[l][col-1])+malha[l][col], 1)\n",
    "    l+=1\n",
    "print(malha[-1])"
   ]
  },
  {
   "cell_type": "code",
   "execution_count": 101,
   "metadata": {},
   "outputs": [
    {
     "name": "stdout",
     "output_type": "stream",
     "text": [
      "[[ 0.  20.  20.  ... 20.  20.   0. ]\n",
      " [ 0.  16.  20.  ... 20.  16.   0. ]\n",
      " [ 0.  13.6 19.2 ... 19.2 13.6  0. ]\n",
      " ...\n",
      " [ 0.   1.3  2.4 ...  2.4  1.3  0. ]\n",
      " [ 0.   1.3  2.3 ...  2.3  1.3  0. ]\n",
      " [ 0.   1.2  2.3 ...  2.3  1.2  0. ]]\n"
     ]
    }
   ],
   "source": [
    "print(malha)"
   ]
  }
 ],
 "metadata": {
  "interpreter": {
   "hash": "5b923e8702b54481da16d37441ccf0ecf25f1b925191889641c0b10de85c2852"
  },
  "kernelspec": {
   "display_name": "Python 3.7.11 ('base')",
   "name": "python3"
  },
  "language_info": {
   "codemirror_mode": {
    "name": "ipython",
    "version": 3
   },
   "file_extension": ".py",
   "mimetype": "text/x-python",
   "name": "python",
   "nbconvert_exporter": "python",
   "pygments_lexer": "ipython3",
   "version": "3.7.11"
  },
  "orig_nbformat": 4
 },
 "nbformat": 4,
 "nbformat_minor": 2
}
