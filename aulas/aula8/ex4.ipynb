{
 "cells": [
  {
   "cell_type": "code",
   "execution_count": 115,
   "metadata": {},
   "outputs": [],
   "source": [
    "import numpy as np\n",
    "import math \n",
    "import matplotlib.pyplot as plt\n",
    "from mpl_toolkits.axes_grid1 import make_axes_locatable"
   ]
  },
  {
   "cell_type": "code",
   "execution_count": 116,
   "metadata": {},
   "outputs": [],
   "source": [
    "malha = np.zeros((6,6))\n",
    "alfa = 0.25\n",
    "deltat = 1e-2\n",
    "deltax = 0.1\n",
    "alfa_delta = alfa*deltat/(deltax**2)"
   ]
  },
  {
   "cell_type": "code",
   "execution_count": 117,
   "metadata": {},
   "outputs": [
    {
     "name": "stdout",
     "output_type": "stream",
     "text": [
      "[[  0. 100. 100. 100. 100.   0.]\n",
      " [  0.   0.   0.   0.   0.   0.]\n",
      " [  0.   0.   0.   0.   0.   0.]\n",
      " [  0.   0.   0.   0.   0.   0.]\n",
      " [  0.   0.   0.   0.   0.   0.]\n",
      " [  0.   0.   0.   0.   0.   0.]]\n"
     ]
    }
   ],
   "source": [
    "malha[0] = [0, 100, 100, 100, 100, 0]\n",
    "print(malha)"
   ]
  },
  {
   "cell_type": "code",
   "execution_count": 118,
   "metadata": {},
   "outputs": [
    {
     "data": {
      "text/plain": [
       "array([[  0., 100., 100., 100., 100.,   0.],\n",
       "       [  0.,   0.,   0.,   0.,   0.,   0.],\n",
       "       [  0.,   0.,   0.,   0.,   0.,   0.],\n",
       "       [  0.,   0.,   0.,   0.,   0.,   0.],\n",
       "       [  0.,   0.,   0.,   0.,   0.,   0.],\n",
       "       [  0.,   0.,   0.,   0.,   0.,   0.]])"
      ]
     },
     "execution_count": 118,
     "metadata": {},
     "output_type": "execute_result"
    }
   ],
   "source": [
    "nova_malha = np.zeros((6,6))\n",
    "nova_malha[0] = [0, 100, 100, 100, 100, 0]\n",
    "nova_malha"
   ]
  },
  {
   "cell_type": "code",
   "execution_count": 119,
   "metadata": {},
   "outputs": [
    {
     "name": "stdout",
     "output_type": "stream",
     "text": [
      "[[  0.  100.  100.  100.  100.    0. ]\n",
      " [  0.   45.4  59.4  59.4  45.4   0. ]\n",
      " [  0.   22.3  32.8  32.8  22.3   0. ]\n",
      " [  0.   10.9  16.9  16.9  10.9   0. ]\n",
      " [  0.    4.5   7.1   7.1   4.5   0. ]\n",
      " [  0.    0.    0.    0.    0.    0. ]]\n"
     ]
    }
   ],
   "source": [
    "l= 1\n",
    "c = 1\n",
    "ts = np.arange(0,10, 1e-2)\n",
    "\n",
    "for t in ts:\n",
    "    l = 1\n",
    "    while(l<5):\n",
    "        while(c<5):\n",
    "            nova_malha[l][c] = round(malha[l][c] + alfa_delta*(malha[l+1][c]+malha[l-1][c]+malha[l][c+1]+malha[l][c-1]-4*malha[l][c]), 1) \n",
    "            c+=1\n",
    "        c = 1\n",
    "        l += 1\n",
    "    malha = nova_malha\n",
    "\n",
    "print(malha)\n",
    "\n"
   ]
  },
  {
   "cell_type": "code",
   "execution_count": 120,
   "metadata": {},
   "outputs": [
    {
     "data": {
      "text/plain": [
       "<matplotlib.colorbar.Colorbar at 0x1fbf67ae648>"
      ]
     },
     "execution_count": 120,
     "metadata": {},
     "output_type": "execute_result"
    },
    {
     "data": {
      "image/png": "[encoded data removed]",
      "text/plain": [
       "<Figure size 432x288 with 2 Axes>"
      ]
     },
     "metadata": {
      "needs_background": "light"
     },
     "output_type": "display_data"
    }
   ],
   "source": [
    "ax = plt.subplot(111)\n",
    "im = ax.imshow(malha)\n",
    "divider = make_axes_locatable(ax)\n",
    "cax = divider.append_axes(\"right\", size=\"5%\", pad=0.05)\n",
    "plt.colorbar(im,cax = cax)\n",
    "\n"
   ]
  }
 ],
 "metadata": {
  "interpreter": {
   "hash": "5b923e8702b54481da16d37441ccf0ecf25f1b925191889641c0b10de85c2852"
  },
  "kernelspec": {
   "display_name": "Python 3.7.11 ('base')",
   "name": "python3"
  },
  "language_info": {
   "codemirror_mode": {
    "name": "ipython",
    "version": 3
   },
   "file_extension": ".py",
   "mimetype": "text/x-python",
   "name": "python",
   "nbconvert_exporter": "python",
   "pygments_lexer": "ipython3",
   "version": "3.7.11"
  },
  "orig_nbformat": 4
 },
 "nbformat": 4,
 "nbformat_minor": 2
}
