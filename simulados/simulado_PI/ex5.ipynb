{
 "cells": [
  {
   "cell_type": "code",
   "execution_count": 33,
   "metadata": {},
   "outputs": [],
   "source": [
    "import numpy as np\n",
    "from math import pi, sqrt"
   ]
  },
  {
   "cell_type": "code",
   "execution_count": 34,
   "metadata": {},
   "outputs": [],
   "source": [
    "k = 400\n",
    "h = 100\n",
    "r = 1e-3/2\n",
    "l = 25e-3\n",
    "\n",
    "tb = 100\n",
    "tinf = 0\n",
    "tl = 0\n",
    "\n",
    "p = 2*pi*r\n",
    "Ab = pi*(r**2)\n",
    "As = Ab + l*p\n",
    "\n",
    "m=sqrt((h*p)/(k*Ab))\n",
    "thetab = tb-tinf\n",
    "thetal = tl-tinf "
   ]
  },
  {
   "cell_type": "code",
   "execution_count": 35,
   "metadata": {},
   "outputs": [],
   "source": [
    "M = thetab*sqrt(h*p*k*Ab)\n",
    "def taxa_transferencia(l):\n",
    "    qa = M * ((np.cosh(m*l)-(thetal/thetab)) / (np.sinh(m*l)))\n",
    "    return qa"
   ]
  },
  {
   "cell_type": "code",
   "execution_count": 36,
   "metadata": {},
   "outputs": [
    {
     "data": {
      "text/plain": [
       "1.5081392734446064"
      ]
     },
     "execution_count": 36,
     "metadata": {},
     "output_type": "execute_result"
    }
   ],
   "source": [
    "qa = taxa_transferencia(l)\n",
    "qa"
   ]
  },
  {
   "cell_type": "code",
   "execution_count": 37,
   "metadata": {},
   "outputs": [],
   "source": [
    "def efetividade(qa):\n",
    "    e = qa / (h*Ab*thetab)\n",
    "    return e "
   ]
  },
  {
   "cell_type": "code",
   "execution_count": 38,
   "metadata": {},
   "outputs": [
    {
     "name": "stdout",
     "output_type": "stream",
     "text": [
      "Efetividade: 192.022\n"
     ]
    }
   ],
   "source": [
    "efet = efetividade(qa)\n",
    "print(\"Efetividade: {:.3f}\".format(efet))"
   ]
  },
  {
   "cell_type": "markdown",
   "metadata": {},
   "source": [
    "Alta efetividade 192,022 > 2. Podemos justificar a construção"
   ]
  }
 ],
 "metadata": {
  "interpreter": {
   "hash": "e6e4848e0fb705e7cf07a9ca737530324d6b04f5bf769dea7d18bdbf336afef8"
  },
  "kernelspec": {
   "display_name": "Python 3.9.6 64-bit",
   "language": "python",
   "name": "python3"
  },
  "language_info": {
   "codemirror_mode": {
    "name": "ipython",
    "version": 3
   },
   "file_extension": ".py",
   "mimetype": "text/x-python",
   "name": "python",
   "nbconvert_exporter": "python",
   "pygments_lexer": "ipython3",
   "version": "3.9.6"
  },
  "orig_nbformat": 4
 },
 "nbformat": 4,
 "nbformat_minor": 2
}
