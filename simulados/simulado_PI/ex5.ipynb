{
 "cells": [
  {
   "cell_type": "code",
   "execution_count": 1,
   "metadata": {},
   "outputs": [],
   "source": [
    "import numpy as np\n",
    "from math import pi, sqrt"
   ]
  },
  {
   "cell_type": "code",
   "execution_count": 2,
   "metadata": {},
   "outputs": [],
   "source": [
    "k = 240 \n",
    "h = 150\n",
    "r = 2e-3/2\n",
    "l = 8e-3\n",
    "\n",
    "tb = 87\n",
    "tinf = 27\n",
    "tl = 27\n",
    "\n",
    "p = 2*pi*r\n",
    "Ab = pi*(r**2)\n",
    "As = Ab + l*p\n",
    "\n",
    "m=sqrt((h*p)/(k*Ab))\n",
    "thetab = tb-tinf\n",
    "thetal = tl-tinf "
   ]
  },
  {
   "cell_type": "code",
   "execution_count": 8,
   "metadata": {},
   "outputs": [
    {
     "data": {
      "text/plain": [
       "9.685840734641021e-05"
      ]
     },
     "execution_count": 8,
     "metadata": {},
     "output_type": "execute_result"
    }
   ],
   "source": [
    "Ac = (10e-3)**2-Ab"
   ]
  },
  {
   "cell_type": "code",
   "execution_count": 3,
   "metadata": {},
   "outputs": [],
   "source": [
    "M = thetab*sqrt(h*p*k*Ab)\n",
    "def taxa_transferencia(l):\n",
    "    qa = M * ((np.sinh(m*l)+(h/(m*k)*np.cosh(m*l))) / (np.cosh(m*l) + (h/(m*k))*np.sinh(m*l)))\n",
    "    return qa"
   ]
  },
  {
   "cell_type": "code",
   "execution_count": 4,
   "metadata": {},
   "outputs": [
    {
     "data": {
      "text/plain": [
       "0.4667006858466373"
      ]
     },
     "execution_count": 4,
     "metadata": {},
     "output_type": "execute_result"
    }
   ],
   "source": [
    "qa = taxa_transferencia(l)\n",
    "qa"
   ]
  },
  {
   "cell_type": "code",
   "execution_count": 5,
   "metadata": {},
   "outputs": [],
   "source": [
    "def efetividade(qa):\n",
    "    e = qa / (h*Ab*thetab)\n",
    "    return e\n",
    "\n",
    "def eficiencia(qa):\n",
    "    return qa/(h*As*thetab) "
   ]
  },
  {
   "cell_type": "code",
   "execution_count": 6,
   "metadata": {},
   "outputs": [
    {
     "name": "stdout",
     "output_type": "stream",
     "text": [
      "Efetividade: 16.506\n"
     ]
    }
   ],
   "source": [
    "efet = efetividade(qa)\n",
    "print(\"Efetividade: {:.3f}\".format(efet))"
   ]
  },
  {
   "cell_type": "markdown",
   "metadata": {},
   "source": [
    "Alta efetividade 192,022 > 2. Podemos justificar a construção"
   ]
  }
 ],
 "metadata": {
  "interpreter": {
   "hash": "e6e4848e0fb705e7cf07a9ca737530324d6b04f5bf769dea7d18bdbf336afef8"
  },
  "kernelspec": {
   "display_name": "Python 3.9.6 64-bit",
   "language": "python",
   "name": "python3"
  },
  "language_info": {
   "codemirror_mode": {
    "name": "ipython",
    "version": 3
   },
   "file_extension": ".py",
   "mimetype": "text/x-python",
   "name": "python",
   "nbconvert_exporter": "python",
   "pygments_lexer": "ipython3",
   "version": "3.9.7"
  },
  "orig_nbformat": 4
 },
 "nbformat": 4,
 "nbformat_minor": 2
}
