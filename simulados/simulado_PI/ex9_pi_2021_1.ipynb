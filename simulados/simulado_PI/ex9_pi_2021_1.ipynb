{
 "cells": [
  {
   "cell_type": "code",
   "execution_count": 4,
   "metadata": {},
   "outputs": [],
   "source": [
    "import numpy as np\n",
    "from math import pi, sqrt"
   ]
  },
  {
   "cell_type": "code",
   "execution_count": 5,
   "metadata": {},
   "outputs": [],
   "source": [
    "k = 399\n",
    "h = 235\n",
    "r = 2e-3/2\n",
    "l = 12e-3\n",
    "\n",
    "tb = 350\n",
    "tinf = 300\n",
    "\n",
    "\n",
    "p = 2*pi*r\n",
    "Ab = pi*(r**2)\n",
    "As = Ab + l*p\n",
    "\n",
    "m=sqrt((h*p)/(k*Ab))\n",
    "thetab = tb-tinf"
   ]
  },
  {
   "cell_type": "code",
   "execution_count": 6,
   "metadata": {},
   "outputs": [],
   "source": [
    "M = thetab*sqrt(h*p*k*Ab)\n",
    "def taxa_transferencia(l):\n",
    "    qa = M * ((np.sinh(m*l)+((h/(m*k))*np.cosh(m*l))) / (np.cosh(m*l)+((h/(m*k))*np.sinh(m*l))))\n",
    "    return qa"
   ]
  },
  {
   "cell_type": "code",
   "execution_count": 7,
   "metadata": {},
   "outputs": [
    {
     "data": {
      "text/plain": [
       "0.8701075702694133"
      ]
     },
     "execution_count": 7,
     "metadata": {},
     "output_type": "execute_result"
    }
   ],
   "source": [
    "qa = taxa_transferencia(l)\n",
    "qa"
   ]
  },
  {
   "cell_type": "code",
   "execution_count": 8,
   "metadata": {},
   "outputs": [
    {
     "data": {
      "text/plain": [
       "0.15108628632031992"
      ]
     },
     "execution_count": 8,
     "metadata": {},
     "output_type": "execute_result"
    }
   ],
   "source": [
    "W = 4e-3\n",
    "area = W**2 - Ab\n",
    "qbase = h*area*(thetab)\n",
    "qbase"
   ]
  },
  {
   "cell_type": "code",
   "execution_count": 9,
   "metadata": {},
   "outputs": [
    {
     "data": {
      "text/plain": [
       "1.0211938565897332"
      ]
     },
     "execution_count": 9,
     "metadata": {},
     "output_type": "execute_result"
    }
   ],
   "source": [
    "total = qa + qbase\n",
    "total"
   ]
  },
  {
   "cell_type": "code",
   "execution_count": null,
   "metadata": {},
   "outputs": [],
   "source": []
  }
 ],
 "metadata": {
  "interpreter": {
   "hash": "e6e4848e0fb705e7cf07a9ca737530324d6b04f5bf769dea7d18bdbf336afef8"
  },
  "kernelspec": {
   "display_name": "Python 3.9.6 64-bit",
   "language": "python",
   "name": "python3"
  },
  "language_info": {
   "codemirror_mode": {
    "name": "ipython",
    "version": 3
   },
   "file_extension": ".py",
   "mimetype": "text/x-python",
   "name": "python",
   "nbconvert_exporter": "python",
   "pygments_lexer": "ipython3",
   "version": "3.9.6"
  },
  "orig_nbformat": 4
 },
 "nbformat": 4,
 "nbformat_minor": 2
}
