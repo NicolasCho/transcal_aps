{
 "cells": [
  {
   "cell_type": "code",
   "execution_count": 1,
   "metadata": {},
   "outputs": [],
   "source": [
    "import numpy as np\n",
    "import matplotlib.pyplot as plt"
   ]
  },
  {
   "cell_type": "code",
   "execution_count": null,
   "metadata": {},
   "outputs": [],
   "source": [
    "k = 230\n",
    "c = 897\n",
    "den = 2700\n",
    "alfa = k/(c*den)\n",
    "\n",
    "# Discretização da malha em x [cm]\n",
    "dx = 0.01\n",
    "dy = 0.01\n",
    "# Discretização no tempo [s]\n",
    "dt = dx**4 / (4*alfa)\n",
    "\n",
    "# Comprimento da barra [cm]\n",
    "Lx = 0.4\n",
    "Ly = 0.4\n",
    "\n",
    "# Número de passos []\n",
    "n = 100"
   ]
  }
 ],
 "metadata": {
  "interpreter": {
   "hash": "5b923e8702b54481da16d37441ccf0ecf25f1b925191889641c0b10de85c2852"
  },
  "kernelspec": {
   "display_name": "Python 3.7.11 ('base')",
   "name": "python3"
  },
  "language_info": {
   "codemirror_mode": {
    "name": "ipython",
    "version": 3
   },
   "file_extension": ".py",
   "mimetype": "text/x-python",
   "name": "python",
   "nbconvert_exporter": "python",
   "pygments_lexer": "ipython3",
   "version": "3.7.11"
  },
  "orig_nbformat": 4
 },
 "nbformat": 4,
 "nbformat_minor": 2
}
