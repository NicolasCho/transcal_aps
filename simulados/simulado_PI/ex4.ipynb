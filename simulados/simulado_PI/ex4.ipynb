{
 "cells": [
  {
   "cell_type": "code",
   "execution_count": 71,
   "metadata": {},
   "outputs": [],
   "source": [
    "import numpy as np\n",
    "import matplotlib.pyplot as plt\n",
    "from mpl_toolkits.axes_grid1 import make_axes_locatable"
   ]
  },
  {
   "cell_type": "code",
   "execution_count": 72,
   "metadata": {},
   "outputs": [
    {
     "name": "stdout",
     "output_type": "stream",
     "text": [
      "0.26325000000000004\n"
     ]
    }
   ],
   "source": [
    "k = 230\n",
    "c = 897\n",
    "den = 2700\n",
    "alfa = k/(c*den)\n",
    "\n",
    "# Discretização da malha em x [cm]\n",
    "dx = 0.01\n",
    "dy = 0.01\n",
    "# Discretização no tempo [s]\n",
    "dt = dx**2 / (4*alfa)\n",
    "\n",
    "# Comprimento da barra [cm]\n",
    "Lx = 0.4\n",
    "Ly = 0.4\n",
    "\n",
    "# Número de passos []\n",
    "nt = 5000\n",
    "print(dt)"
   ]
  },
  {
   "cell_type": "code",
   "execution_count": 73,
   "metadata": {},
   "outputs": [],
   "source": [
    "tt = dt*nt\n",
    "\n",
    "# Número de nós []\n",
    "nx = int(Lx/dx)+1\n",
    "ny = int(Ly/dy)+1"
   ]
  },
  {
   "cell_type": "code",
   "execution_count": 74,
   "metadata": {},
   "outputs": [],
   "source": [
    "T = np.zeros(shape=(ny,nx,nt))"
   ]
  },
  {
   "cell_type": "code",
   "execution_count": 75,
   "metadata": {},
   "outputs": [],
   "source": [
    "#%% Condição de contorno\n",
    "T[ny-1, : , : ] = 0\n",
    "T[0,:,:] = 100\n",
    "T[:,0,:] = 75\n",
    "T[:,nx-1,:] = 50"
   ]
  },
  {
   "cell_type": "code",
   "execution_count": 76,
   "metadata": {},
   "outputs": [
    {
     "name": "stdout",
     "output_type": "stream",
     "text": [
      "[[ 75. 100. 100. ... 100. 100.  50.]\n",
      " [ 75.   0.   0. ...   0.   0.  50.]\n",
      " [ 75.   0.   0. ...   0.   0.  50.]\n",
      " ...\n",
      " [ 75.   0.   0. ...   0.   0.  50.]\n",
      " [ 75.   0.   0. ...   0.   0.  50.]\n",
      " [ 75.   0.   0. ...   0.   0.  50.]]\n"
     ]
    }
   ],
   "source": [
    "print(T[:,:,0])"
   ]
  },
  {
   "cell_type": "code",
   "execution_count": 77,
   "metadata": {},
   "outputs": [
    {
     "name": "stderr",
     "output_type": "stream",
     "text": [
      "C:\\Users\\Nicolas\\AppData\\Local\\Temp/ipykernel_11468/163026455.py:11: RuntimeWarning: invalid value encountered in true_divide\n",
      "  erro = np.amax(abs((T[1:nx-1,1:ny-1,p]-T[1:nx-1,1:ny-1,p-1])/T[1:nx-1,1:ny-1,p]))\n"
     ]
    },
    {
     "name": "stdout",
     "output_type": "stream",
     "text": [
      "Convergiu! 4332\n"
     ]
    }
   ],
   "source": [
    "#%% Tolerancia []\n",
    "tol = 1e-8\n",
    "\n",
    "#%% Cálculos no tempo\n",
    "for p in range(0,nt-1):\n",
    "    for n in range(1,nx-1):\n",
    "        for m in range(1,ny-1):\n",
    "    \n",
    "            T[m,n,p+1] = T[m,n,p] + (alfa*dt/dx**2) * (T[m,n+1,p] + T[m,n-1,p] + T[m+1,n,p] + T[m-1,n,p] - 4 *T[m,n,p])\n",
    "               \n",
    "    erro = np.amax(abs((T[1:nx-1,1:ny-1,p]-T[1:nx-1,1:ny-1,p-1])/T[1:nx-1,1:ny-1,p]))\n",
    "    if tol>=erro:\n",
    "        \n",
    "        print('Convergiu!',p)\n",
    "        break"
   ]
  },
  {
   "cell_type": "code",
   "execution_count": 78,
   "metadata": {},
   "outputs": [
    {
     "name": "stdout",
     "output_type": "stream",
     "text": [
      "[[ 75.         100.         100.         ... 100.         100.\n",
      "   50.        ]\n",
      " [ 75.          87.41444633  92.27036522 ...  84.78016965  74.94866745\n",
      "   50.        ]\n",
      " [ 75.          82.3874201   87.15779011 ...  74.79467268  65.01450015\n",
      "   50.        ]\n",
      " ...\n",
      " [ 75.          52.42663782  37.70532039 ...  25.34220296  35.05371787\n",
      "   50.        ]\n",
      " [ 75.          37.55133081  22.77868543 ...  15.28848986  25.08555193\n",
      "   50.        ]\n",
      " [ 75.           0.           0.         ...   0.           0.\n",
      "   50.        ]]\n",
      "1316.2500000000002\n"
     ]
    },
    {
     "data": {
      "image/png": "[encoded data removed]",
      "text/plain": [
       "<Figure size 432x288 with 2 Axes>"
      ]
     },
     "metadata": {
      "needs_background": "light"
     },
     "output_type": "display_data"
    }
   ],
   "source": [
    "#%% Gráfico para a temperatura\n",
    "ax = plt.subplot(111)\n",
    "im = ax.imshow(T[:,:,p])\n",
    "divider = make_axes_locatable(ax)\n",
    "cax = divider.append_axes(\"right\", size=\"5%\", pad=0.05)\n",
    "plt.colorbar(im, cax=cax)\n",
    "print(T[:,:,p])\n",
    "print(tt)"
   ]
  },
  {
   "cell_type": "code",
   "execution_count": 82,
   "metadata": {},
   "outputs": [
    {
     "name": "stdout",
     "output_type": "stream",
     "text": [
      "56.24985844565891\n"
     ]
    }
   ],
   "source": [
    "print(T[int(ny/2),int(nx/2),p])"
   ]
  },
  {
   "cell_type": "code",
   "execution_count": null,
   "metadata": {},
   "outputs": [],
   "source": []
  }
 ],
 "metadata": {
  "interpreter": {
   "hash": "5b923e8702b54481da16d37441ccf0ecf25f1b925191889641c0b10de85c2852"
  },
  "kernelspec": {
   "display_name": "Python 3.7.11 ('base')",
   "name": "python3"
  },
  "language_info": {
   "codemirror_mode": {
    "name": "ipython",
    "version": 3
   },
   "file_extension": ".py",
   "mimetype": "text/x-python",
   "name": "python",
   "nbconvert_exporter": "python",
   "pygments_lexer": "ipython3",
   "version": "3.9.6"
  },
  "orig_nbformat": 4
 },
 "nbformat": 4,
 "nbformat_minor": 2
}
