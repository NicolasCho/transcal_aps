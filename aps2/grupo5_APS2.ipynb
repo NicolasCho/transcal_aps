{
 "cells": [
  {
   "cell_type": "markdown",
   "metadata": {},
   "source": [
    "# APS 2 - Tranferências de Calor e Mecânica dos Sólidos"
   ]
  },
  {
   "cell_type": "markdown",
   "metadata": {},
   "source": [
    "### Grupo 5"
   ]
  },
  {
   "cell_type": "markdown",
   "metadata": {},
   "source": [
    "- Bruno Freitas do Nascimento Rodrigues\n",
    "- Jonathan Sutton\n",
    "- Keiya Nishio\n",
    "- Nicolas Byung Kwan Cho"
   ]
  },
  {
   "cell_type": "markdown",
   "metadata": {},
   "source": [
    "## Comportamento numérico"
   ]
  },
  {
   "cell_type": "code",
   "execution_count": 56,
   "metadata": {},
   "outputs": [],
   "source": [
    "import math\n",
    "import numpy as np\n",
    "import matplotlib.pyplot as plt\n",
    "from mpl_toolkits.axes_grid1 import make_axes_locatable"
   ]
  },
  {
   "cell_type": "markdown",
   "metadata": {},
   "source": [
    "### Declaração de variáveis"
   ]
  },
  {
   "cell_type": "markdown",
   "metadata": {},
   "source": [
    "Foram declaradas as variáveis mencionadas no enunciado do exercício. Além de declarados os valores de **dx** e **raio** para fins de teste."
   ]
  },
  {
   "cell_type": "code",
   "execution_count": 57,
   "metadata": {},
   "outputs": [],
   "source": [
    "den = 2700\n",
    "Lx = 0.3\n",
    "k = 180\n",
    "c = 896\n",
    "Tl = 25 \n",
    "Tb = 100\n",
    "Tamb = 50\n",
    "h = 50\n",
    "tol = 1e-10\n",
    "alfa = k/(den*c)\n",
    "dx = 0.01\n",
    "raio = 12e-3\n"
   ]
  },
  {
   "cell_type": "markdown",
   "metadata": {},
   "source": [
    "### Identificando a equação dos nós"
   ]
  },
  {
   "cell_type": "markdown",
   "metadata": {},
   "source": [
    "Para o cálculo numérico na aleta foi utilizado o método das diferenças finitas na equação diferencial dada abaixo."
   ]
  },
  {
   "cell_type": "markdown",
   "metadata": {},
   "source": [
    " $$\\frac{d^2T}{dx^2} - \\frac{hP}{kA_{tr}} (T - T_{\\infty}) = \\frac{1}{\\alpha} \\frac{dT}{dt} $$"
   ]
  },
  {
   "cell_type": "markdown",
   "metadata": {},
   "source": [
    "Considerando a segunda derivada da \n",
    "temperatura no espaço uma equação de diferença finita centrada e a primeira derivada no tempo \n",
    "da temperatura uma equação de diferença progressiva, temos que:"
   ]
  },
  {
   "cell_type": "markdown",
   "metadata": {},
   "source": [
    "$$\\frac{d^2T}{dx^2} = \\frac{T_{i+1}^l - 2T_{i}^l + T_{i-1}^l}{\\Delta x^2}$$ \n",
    "$$\\frac{dT}{dt} = \\frac{T_{i}^{l+1} - T_{i}^l}{\\Delta t} $$"
   ]
  },
  {
   "cell_type": "markdown",
   "metadata": {},
   "source": [
    "Substituindo na primeira equação:"
   ]
  },
  {
   "cell_type": "markdown",
   "metadata": {},
   "source": [
    "$$\\frac{T_{i+1}^l - 2T_{i}^l + T_{i-1}^l}{\\Delta x^2} - \\frac{hP}{kA_{tr}} (T_{i}^l - T_{\\infty}^l) = \\frac{1}{\\alpha} \\frac{T_{i}^{l+1} - T_{i}^l}{\\Delta t} $$"
   ]
  },
  {
   "cell_type": "markdown",
   "metadata": {},
   "source": [
    "Isolando $T_{i}^{l+1}$:"
   ]
  },
  {
   "cell_type": "markdown",
   "metadata": {},
   "source": [
    "$$T_{i}^{l+1} = \\alpha \\Delta t (\\frac{T_{i+1}^l - 2T_{i}^l + T_{i-1}^l}{\\Delta x^2} - \\frac{hP}{kA_{tr}} (T_{i}^l - T_{\\infty}^l)) + T_{i}^l$$"
   ]
  },
  {
   "cell_type": "markdown",
   "metadata": {},
   "source": [
    "Essa será a equação a ser utilizada no método numérico"
   ]
  },
  {
   "cell_type": "markdown",
   "metadata": {},
   "source": [
    "### Função e gráfico"
   ]
  },
  {
   "cell_type": "markdown",
   "metadata": {},
   "source": [
    "Para determinar o gráfico da temperatura x posição, foi criada a função **calcula_aleta**. O $\\Delta T$ foi calculado utilizando seu valor máximo na condição de estabilidade, seguindo a seguinte equação:"
   ]
  },
  {
   "cell_type": "markdown",
   "metadata": {},
   "source": [
    "$$\\Delta T = \\frac{\\Delta x^2}{\\alpha (\\frac{hP\\Delta x^2}{kA_{tr}} + 2)} $$"
   ]
  },
  {
   "cell_type": "code",
   "execution_count": 58,
   "metadata": {},
   "outputs": [],
   "source": [
    "def calcula_aleta(tempo_sim):\n",
    "    P = 2*math.pi*raio\n",
    "    Atr = math.pi*raio**2\n",
    "    dt = dx**2/(alfa * (h*P*dx**2/(k*Atr) + 2))\n",
    "    nt = int(tempo_sim/dx)            #passos \n",
    "    nx = int(Lx/dx)+1                 #nós\n",
    "    T = np.zeros(shape=(nt,nx))\n",
    "    T[:,0] = Tb\n",
    "    T[:,nx-1] = 25\n",
    "    for l in range(1,nt-1):\n",
    "        for i in range(1,nx-1):\n",
    "            T[l+1,i] = alfa*dt*(((T[l,i+1]-2*T[l,i]+T[l,i-1])/(dx**2)) - ((h*P)/(k*Atr))*(T[l,i] - Tamb)) + T[l,i]\n",
    "\n",
    "              \n",
    "        erro = np.amax(abs((T[l+1,i]-T[l,i])/T[l+1,i]))\n",
    "        if tol>=erro:\n",
    "            print('Convergiu!',l)\n",
    "            break\n",
    "\n",
    "    \n",
    "    x = np.linspace(0.0,Lx,nx)\n",
    "    T_all = np.array(T[nt-1,:])\n",
    "    print(T[-1,:])\n",
    "    plt.title(\"Temperatura por comprimento\")\n",
    "    plt.plot(x,T_all)\n",
    "    plt.ylabel('Temperatura [°c]')\n",
    "    plt.xlabel('Posicao [m]')\n",
    "    plt.grid(True)\n",
    "    plt.show()\n"
   ]
  },
  {
   "cell_type": "markdown",
   "metadata": {},
   "source": [
    "Para uma análise de 10 segundos os valores finais na aleta estão na array abaixo. O gráfico pela posição na aleta também está representado."
   ]
  },
  {
   "cell_type": "code",
   "execution_count": 59,
   "metadata": {},
   "outputs": [
    {
     "name": "stdout",
     "output_type": "stream",
     "text": [
      "[100.          96.14173264  92.49717258  89.04938396  85.78264016\n",
      "  82.68160618  79.73229766  76.92071012  74.23431987  71.66021589\n",
      "  69.18707305  66.80286454  64.49721758  62.258803    60.07796714\n",
      "  57.94390945  55.84747255  53.7782282   51.72730065  49.68448548\n",
      "  47.64098013  45.58665866  43.51258742  41.40857221  39.26534625\n",
      "  37.07249426  34.82021444  32.49770728  30.09443163  27.59902584\n",
      "  25.        ]\n"
     ]
    },
    {
     "data": {
      "image/png": "[encoded data removed]",
      "text/plain": [
       "<Figure size 432x288 with 1 Axes>"
      ]
     },
     "metadata": {
      "needs_background": "light"
     },
     "output_type": "display_data"
    }
   ],
   "source": [
    "calcula_aleta(10)"
   ]
  },
  {
   "cell_type": "markdown",
   "metadata": {},
   "source": [
    "## Comportamento analítico"
   ]
  },
  {
   "cell_type": "markdown",
   "metadata": {},
   "source": [
    "Para validar o resultado obtido com o método numérico, foi analisado o comportamento analítico da temperatura na aleta, com as mesmas condições especificadas anteriormente. Como temos a temperatura na extremidade especificada, então utilizamos a seguinte expressão para determinar a temperatura ao longo da aleta:"
   ]
  },
  {
   "cell_type": "markdown",
   "metadata": {},
   "source": [
    "$$ \\frac { (\\frac{\\theta_{L}}{\\theta_{b}}) senh(mx) + senh(m(L-x))}  {senh(mL)}$$"
   ]
  },
  {
   "cell_type": "code",
   "execution_count": 60,
   "metadata": {},
   "outputs": [],
   "source": [
    "def t_analitico(x):\n",
    "    P = 2*math.pi*raio\n",
    "    Atr = math.pi*raio**2\n",
    "    m=math.sqrt((h*P)/(k*Atr))\n",
    "    thetal = Tl-Tamb\n",
    "    thetab = Tb-Tamb\n",
    "    T = ((thetal/thetab)*np.sinh(m*x) + np.sinh(m*(Lx-x))) / np.sinh(m*Lx)\n",
    "    return T"
   ]
  },
  {
   "cell_type": "markdown",
   "metadata": {},
   "source": [
    "**Gráfico do comportamento analítco**"
   ]
  },
  {
   "cell_type": "code",
   "execution_count": 61,
   "metadata": {},
   "outputs": [
    {
     "data": {
      "image/png": "[encoded data removed]",
      "text/plain": [
       "<Figure size 432x288 with 1 Axes>"
      ]
     },
     "metadata": {
      "needs_background": "light"
     },
     "output_type": "display_data"
    }
   ],
   "source": [
    "x = np.arange(0,Lx+dx,dx)\n",
    "T_list = []\n",
    "for i in x:\n",
    "    T = t_analitico(i)\n",
    "    T_list.append(T)\n",
    "\n",
    "plt.title(\"Temperatura por comprimento\")\n",
    "plt.plot(x, T_list)\n",
    "plt.xlabel(\"Comprimento [m]\")\n",
    "plt.ylabel(\"Temperatura\")\n",
    "plt.grid(True)\n",
    "plt.show()"
   ]
  },
  {
   "cell_type": "code",
   "execution_count": 62,
   "metadata": {},
   "outputs": [
    {
     "name": "stdout",
     "output_type": "stream",
     "text": [
      "[0.   0.01 0.02 0.03 0.04 0.05 0.06 0.07 0.08 0.09 0.1  0.11 0.12 0.13\n",
      " 0.14 0.15 0.16 0.17 0.18 0.19 0.2  0.21 0.22 0.23 0.24 0.25 0.26 0.27\n",
      " 0.28 0.29 0.3 ]\n"
     ]
    }
   ],
   "source": [
    "print(x)"
   ]
  },
  {
   "cell_type": "markdown",
   "metadata": {},
   "source": [
    "Comparando os dois gráficos, é possível perceber a similaridade na curva validando o resultado obtido numericamente"
   ]
  }
 ],
 "metadata": {
  "interpreter": {
   "hash": "5b923e8702b54481da16d37441ccf0ecf25f1b925191889641c0b10de85c2852"
  },
  "kernelspec": {
   "display_name": "Python 3.7.11 ('base')",
   "name": "python3"
  },
  "language_info": {
   "codemirror_mode": {
    "name": "ipython",
    "version": 3
   },
   "file_extension": ".py",
   "mimetype": "text/x-python",
   "name": "python",
   "nbconvert_exporter": "python",
   "pygments_lexer": "ipython3",
   "version": "3.7.11"
  },
  "orig_nbformat": 4
 },
 "nbformat": 4,
 "nbformat_minor": 2
}
