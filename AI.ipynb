{
 "cells": [
  {
   "cell_type": "code",
   "execution_count": 100,
   "metadata": {},
   "outputs": [],
   "source": [
    "import numpy as np\n",
    "import matplotlib.pyplot as plt\n",
    "from mpl_toolkits.axes_grid1 import make_axes_locatable"
   ]
  },
  {
   "cell_type": "code",
   "execution_count": 101,
   "metadata": {},
   "outputs": [
    {
     "name": "stdout",
     "output_type": "stream",
     "text": [
      "0.1\n"
     ]
    }
   ],
   "source": [
    "k = 230\n",
    "c = 897\n",
    "den = 2700\n",
    "alfa = k/(c*den)\n",
    "\n",
    "# Discretização da malha em x [cm]\n",
    "dx = 0.1\n",
    "dy = 0.1\n",
    "# Discretização no tempo [s]\n",
    "dt = 0.1#dx**2 / (4*alfa)\n",
    "\n",
    "# Comprimento da barra [cm]\n",
    "Lx = 0.4\n",
    "Ly = 0.4\n",
    "\n",
    "# Número de passos []\n",
    "nt = 500000\n",
    "print(dt)"
   ]
  },
  {
   "cell_type": "code",
   "execution_count": 102,
   "metadata": {},
   "outputs": [],
   "source": [
    "tt = dt*nt\n",
    "\n",
    "# Número de nós []\n",
    "nx = int(Lx/dx)+1\n",
    "ny = int(Ly/dy)+1"
   ]
  },
  {
   "cell_type": "code",
   "execution_count": 103,
   "metadata": {},
   "outputs": [],
   "source": [
    "T = np.zeros(shape=(ny,nx,nt))"
   ]
  },
  {
   "cell_type": "code",
   "execution_count": 104,
   "metadata": {},
   "outputs": [],
   "source": [
    "#%% Condição de contorno\n",
    "T[ny-1, : , : ] = 0\n",
    "T[0,:,:] = 200\n",
    "T[:,0,:] = 150\n",
    "T[:,nx-1,:] = 50"
   ]
  },
  {
   "cell_type": "code",
   "execution_count": 105,
   "metadata": {},
   "outputs": [
    {
     "name": "stdout",
     "output_type": "stream",
     "text": [
      "[[150. 200. 200. 200.  50.]\n",
      " [150.   0.   0.   0.  50.]\n",
      " [150.   0.   0.   0.  50.]\n",
      " [150.   0.   0.   0.  50.]\n",
      " [150.   0.   0.   0.  50.]]\n"
     ]
    }
   ],
   "source": [
    "print(T[:,:,0])"
   ]
  },
  {
   "cell_type": "code",
   "execution_count": 106,
   "metadata": {},
   "outputs": [
    {
     "name": "stderr",
     "output_type": "stream",
     "text": [
      "C:\\Users\\bru_b\\AppData\\Local\\Temp/ipykernel_10380/1635921966.py:11: RuntimeWarning: invalid value encountered in true_divide\n",
      "  erro = np.amax(abs((T[1:nx-1,1:ny-1,p]-T[1:nx-1,1:ny-1,p-1])/T[1:nx-1,1:ny-1,p]))\n"
     ]
    },
    {
     "name": "stdout",
     "output_type": "stream",
     "text": [
      "Convergiu! 10969\n"
     ]
    }
   ],
   "source": [
    "#%% Tolerancia []\n",
    "tol = 1e-8\n",
    "\n",
    "#%% Cálculos no tempo\n",
    "for p in range(0,nt-1):\n",
    "    for n in range(1,nx-1):\n",
    "        for m in range(1,ny-1):\n",
    "    \n",
    "            T[m,n,p+1] = T[m,n,p] + (alfa*dt/dx**2) * (T[m,n+1,p] + T[m,n-1,p] + T[m+1,n,p] + T[m-1,n,p] - 4 *T[m,n,p])\n",
    "               \n",
    "    erro = np.amax(abs((T[1:nx-1,1:ny-1,p]-T[1:nx-1,1:ny-1,p-1])/T[1:nx-1,1:ny-1,p]))\n",
    "    if tol>=erro:\n",
    "        \n",
    "        print('Convergiu!',p)\n",
    "        break"
   ]
  },
  {
   "cell_type": "code",
   "execution_count": 107,
   "metadata": {},
   "outputs": [
    {
     "name": "stdout",
     "output_type": "stream",
     "text": [
      "[[150.         200.         200.         200.          50.        ]\n",
      " [150.         153.57106607 142.8566302  117.85678036  50.        ]\n",
      " [150.         121.42805877  99.999275    78.57091592  50.        ]\n",
      " [150.          82.14249464  57.14234449  46.42820893  50.        ]\n",
      " [150.           0.           0.           0.          50.        ]]\n",
      "50000.0\n"
     ]
    },
    {
     "data": {
      "image/png": "[encoded data removed]",
      "text/plain": [
       "<Figure size 432x288 with 2 Axes>"
      ]
     },
     "metadata": {
      "needs_background": "light"
     },
     "output_type": "display_data"
    }
   ],
   "source": [
    "#%% Gráfico para a temperatura\n",
    "ax = plt.subplot(111)\n",
    "im = ax.imshow(T[:,:,p])\n",
    "divider = make_axes_locatable(ax)\n",
    "cax = divider.append_axes(\"right\", size=\"5%\", pad=0.05)\n",
    "plt.colorbar(im, cax=cax)\n",
    "print(T[:,:,p])\n",
    "print(tt)"
   ]
  },
  {
   "cell_type": "code",
   "execution_count": 108,
   "metadata": {},
   "outputs": [
    {
     "name": "stdout",
     "output_type": "stream",
     "text": [
      "99.99927499609325\n"
     ]
    }
   ],
   "source": [
    "print(T[int(ny/2),int(nx/2),p])"
   ]
  },
  {
   "cell_type": "code",
   "execution_count": null,
   "metadata": {},
   "outputs": [],
   "source": []
  }
 ],
 "metadata": {
  "interpreter": {
   "hash": "5b923e8702b54481da16d37441ccf0ecf25f1b925191889641c0b10de85c2852"
  },
  "kernelspec": {
   "display_name": "Python 3.7.11 ('base')",
   "name": "python3"
  },
  "language_info": {
   "codemirror_mode": {
    "name": "ipython",
    "version": 3
   },
   "file_extension": ".py",
   "mimetype": "text/x-python",
   "name": "python",
   "nbconvert_exporter": "python",
   "pygments_lexer": "ipython3",
   "version": "3.9.7"
  },
  "orig_nbformat": 4
 },
 "nbformat": 4,
 "nbformat_minor": 2
}
